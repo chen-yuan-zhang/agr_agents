{
 "cells": [
  {
   "cell_type": "code",
   "execution_count": 2,
   "metadata": {},
   "outputs": [],
   "source": [
    "import numpy as np\n",
    "from gr_pursuer.astar import astar2d\n",
    "from gr_pursuer.evader import Evader\n",
    "from multigrid.envs.evader_pursuer import EvaderPursuerEnv"
   ]
  },
  {
   "cell_type": "code",
   "execution_count": 3,
   "metadata": {},
   "outputs": [
    {
     "ename": "",
     "evalue": "",
     "output_type": "error",
     "traceback": [
      "\u001b[1;31mThe Kernel crashed while executing code in the current cell or a previous cell. \n",
      "\u001b[1;31mPlease review the code in the cell(s) to identify a possible cause of the failure. \n",
      "\u001b[1;31mClick <a href='https://aka.ms/vscodeJupyterKernelCrash'>here</a> for more info. \n",
      "\u001b[1;31mView Jupyter <a href='command:jupyter.viewOutput'>log</a> for further details."
     ]
    }
   ],
   "source": [
    "env = EvaderPursuerEnv(size=16, agent_view_size=5, render_mode='human')\n",
    "# env.agents[0].view_size = 5\n",
    "env.reset()\n",
    "\n",
    "evader = Evader(env.agents[1], env.goal)\n",
    "observations, infos = env.reset()\n",
    "# observations = [{\"grid\": env.grid.state, \"pos\": agent.pos, \"dir\": agent.dir} \n",
    "#                    for agent in env.agents]"
   ]
  },
  {
   "cell_type": "code",
   "execution_count": null,
   "metadata": {},
   "outputs": [],
   "source": []
  },
  {
   "cell_type": "code",
   "execution_count": 19,
   "metadata": {},
   "outputs": [
    {
     "data": {
      "text/plain": [
       "(8, 2)"
      ]
     },
     "execution_count": 19,
     "metadata": {},
     "output_type": "execute_result"
    }
   ],
   "source": [
    "env.agents[0].pos"
   ]
  },
  {
   "cell_type": "code",
   "execution_count": null,
   "metadata": {},
   "outputs": [],
   "source": [
    "env.agents[0].pos"
   ]
  },
  {
   "cell_type": "code",
   "execution_count": 5,
   "metadata": {},
   "outputs": [
    {
     "data": {
      "text/plain": [
       "7"
      ]
     },
     "execution_count": 5,
     "metadata": {},
     "output_type": "execute_result"
    }
   ],
   "source": [
    "env.agents[0].view_size"
   ]
  },
  {
   "cell_type": "code",
   "execution_count": 21,
   "metadata": {},
   "outputs": [
    {
     "name": "stdout",
     "output_type": "stream",
     "text": [
      "[[[ 1  0  0]\n",
      "  [ 1  0  0]\n",
      "  [ 1  0  0]\n",
      "  [ 1  0  0]\n",
      "  [ 8  1  0]\n",
      "  [ 1  0  0]\n",
      "  [ 1  0  0]]\n",
      "\n",
      " [[ 1  0  0]\n",
      "  [ 1  0  0]\n",
      "  [ 1  0  0]\n",
      "  [ 1  0  0]\n",
      "  [ 1  0  0]\n",
      "  [ 1  0  0]\n",
      "  [ 1  0  0]]\n",
      "\n",
      " [[ 1  0  0]\n",
      "  [ 1  0  0]\n",
      "  [ 1  0  0]\n",
      "  [ 1  0  0]\n",
      "  [ 1  0  0]\n",
      "  [ 1  0  0]\n",
      "  [ 1  0  0]]\n",
      "\n",
      " [[10  1  1]\n",
      "  [ 1  0  0]\n",
      "  [ 1  0  0]\n",
      "  [ 1  0  0]\n",
      "  [ 1  0  0]\n",
      "  [ 1  0  0]\n",
      "  [ 1  0  0]]\n",
      "\n",
      " [[ 1  0  0]\n",
      "  [ 1  0  0]\n",
      "  [ 1  0  0]\n",
      "  [ 1  0  0]\n",
      "  [ 1  0  0]\n",
      "  [ 1  0  0]\n",
      "  [ 1  0  0]]\n",
      "\n",
      " [[ 1  0  0]\n",
      "  [ 1  0  0]\n",
      "  [ 1  0  0]\n",
      "  [ 1  0  0]\n",
      "  [ 1  0  0]\n",
      "  [ 1  0  0]\n",
      "  [ 1  0  0]]\n",
      "\n",
      " [[ 1  0  0]\n",
      "  [ 1  0  0]\n",
      "  [ 1  0  0]\n",
      "  [ 1  0  0]\n",
      "  [ 1  0  0]\n",
      "  [ 1  0  0]\n",
      "  [ 1  0  0]]]\n"
     ]
    },
    {
     "ename": "",
     "evalue": "",
     "output_type": "error",
     "traceback": [
      "\u001b[1;31mThe Kernel crashed while executing code in the current cell or a previous cell. \n",
      "\u001b[1;31mPlease review the code in the cell(s) to identify a possible cause of the failure. \n",
      "\u001b[1;31mClick <a href='https://aka.ms/vscodeJupyterKernelCrash'>here</a> for more info. \n",
      "\u001b[1;31mView Jupyter <a href='command:jupyter.viewOutput'>log</a> for further details."
     ]
    }
   ],
   "source": [
    "a = observations[0][\"image\"]\n",
    "print(a)"
   ]
  },
  {
   "cell_type": "code",
   "execution_count": null,
   "metadata": {},
   "outputs": [],
   "source": [
    "print(np.unique(a))"
   ]
  },
  {
   "cell_type": "code",
   "execution_count": 3,
   "metadata": {},
   "outputs": [
    {
     "data": {
      "text/plain": [
       "[[8, 8],\n",
       " [7, 8],\n",
       " [6, 8],\n",
       " [5, 8],\n",
       " [4, 8],\n",
       " [3, 8],\n",
       " [2, 8],\n",
       " [2, 9],\n",
       " [2, 10],\n",
       " [2, 11],\n",
       " [2, 12],\n",
       " [2, 13],\n",
       " [2, 14]]"
      ]
     },
     "execution_count": 3,
     "metadata": {},
     "output_type": "execute_result"
    }
   ],
   "source": [
    "grid = env.grid.state[:, :, 0]\n",
    "cost = (grid==2).astype(int)*1000\n",
    "path = astar2d(observations[1][\"pos\"], env.goal, cost)\n",
    "path"
   ]
  },
  {
   "cell_type": "code",
   "execution_count": 8,
   "metadata": {},
   "outputs": [
    {
     "ename": "ValueError",
     "evalue": "[1, 8] is not in list",
     "output_type": "error",
     "traceback": [
      "\u001b[0;31m---------------------------------------------------------------------------\u001b[0m",
      "\u001b[0;31mValueError\u001b[0m                                Traceback (most recent call last)",
      "Cell \u001b[0;32mIn[8], line 1\u001b[0m\n\u001b[0;32m----> 1\u001b[0m \u001b[43mpath\u001b[49m\u001b[38;5;241;43m.\u001b[39;49m\u001b[43mindex\u001b[49m\u001b[43m(\u001b[49m\u001b[43m[\u001b[49m\u001b[38;5;241;43m1\u001b[39;49m\u001b[43m,\u001b[49m\u001b[43m \u001b[49m\u001b[38;5;241;43m8\u001b[39;49m\u001b[43m]\u001b[49m\u001b[43m)\u001b[49m\n",
      "\u001b[0;31mValueError\u001b[0m: [1, 8] is not in list"
     ]
    },
    {
     "ename": "",
     "evalue": "",
     "output_type": "error",
     "traceback": [
      "\u001b[1;31mThe Kernel crashed while executing code in the current cell or a previous cell. \n",
      "\u001b[1;31mPlease review the code in the cell(s) to identify a possible cause of the failure. \n",
      "\u001b[1;31mClick <a href='https://aka.ms/vscodeJupyterKernelCrash'>here</a> for more info. \n",
      "\u001b[1;31mView Jupyter <a href='command:jupyter.viewOutput'>log</a> for further details."
     ]
    }
   ],
   "source": [
    "i = path.index([1, 8])"
   ]
  },
  {
   "cell_type": "code",
   "execution_count": 4,
   "metadata": {},
   "outputs": [
    {
     "data": {
      "text/plain": [
       "(8, 8)"
      ]
     },
     "execution_count": 4,
     "metadata": {},
     "output_type": "execute_result"
    }
   ],
   "source": [
    "observations[1][\"pos\"]"
   ]
  },
  {
   "cell_type": "code",
   "execution_count": 7,
   "metadata": {},
   "outputs": [],
   "source": [
    "obs = observations[0]"
   ]
  },
  {
   "cell_type": "code",
   "execution_count": 10,
   "metadata": {},
   "outputs": [
    {
     "data": {
      "text/plain": [
       "{'image': array([[[ 1,  0,  0],\n",
       "         [ 1,  0,  0],\n",
       "         [ 1,  0,  0],\n",
       "         [ 1,  0,  0],\n",
       "         [ 1,  0,  0],\n",
       "         [ 1,  0,  0],\n",
       "         [ 1,  0,  0]],\n",
       " \n",
       "        [[ 1,  0,  0],\n",
       "         [ 1,  0,  0],\n",
       "         [ 1,  0,  0],\n",
       "         [ 1,  0,  0],\n",
       "         [ 1,  0,  0],\n",
       "         [ 1,  0,  0],\n",
       "         [ 1,  0,  0]],\n",
       " \n",
       "        [[ 1,  0,  0],\n",
       "         [ 1,  0,  0],\n",
       "         [ 1,  0,  0],\n",
       "         [ 1,  0,  0],\n",
       "         [ 1,  0,  0],\n",
       "         [ 1,  0,  0],\n",
       "         [ 1,  0,  0]],\n",
       " \n",
       "        [[ 1,  0,  0],\n",
       "         [ 1,  0,  0],\n",
       "         [ 1,  0,  0],\n",
       "         [ 1,  0,  0],\n",
       "         [10,  1,  1],\n",
       "         [ 1,  0,  0],\n",
       "         [ 1,  0,  0]],\n",
       " \n",
       "        [[ 1,  0,  0],\n",
       "         [ 1,  0,  0],\n",
       "         [ 1,  0,  0],\n",
       "         [ 1,  0,  0],\n",
       "         [ 1,  0,  0],\n",
       "         [ 1,  0,  0],\n",
       "         [ 1,  0,  0]],\n",
       " \n",
       "        [[ 1,  0,  0],\n",
       "         [ 1,  0,  0],\n",
       "         [ 1,  0,  0],\n",
       "         [ 1,  0,  0],\n",
       "         [ 1,  0,  0],\n",
       "         [ 1,  0,  0],\n",
       "         [ 1,  0,  0]],\n",
       " \n",
       "        [[ 1,  0,  0],\n",
       "         [ 1,  0,  0],\n",
       "         [ 1,  0,  0],\n",
       "         [ 1,  0,  0],\n",
       "         [ 1,  0,  0],\n",
       "         [ 1,  0,  0],\n",
       "         [ 1,  0,  0]]]),\n",
       " 'direction': 1,\n",
       " 'mission': Mission(\"intercept the evader before it reaches the goal\")}"
      ]
     },
     "execution_count": 10,
     "metadata": {},
     "output_type": "execute_result"
    }
   ],
   "source": [
    "obs"
   ]
  },
  {
   "cell_type": "code",
   "execution_count": 14,
   "metadata": {},
   "outputs": [
    {
     "name": "stdout",
     "output_type": "stream",
     "text": [
      "WGWGWGWGWGWGWGWGWGWGWGWGWGWGWGWG\n",
      "WG                            WG\n",
      "WG                            WG\n",
      "WG                            WG\n",
      "WG                            WG\n",
      "WG                            WG\n",
      "WG      GG      VV            WG\n",
      "WG                            WG\n",
      "WG              VV            WG\n",
      "WG                            WG\n",
      "WG                            WG\n",
      "WG                            WG\n",
      "WG                          GGWG\n",
      "WG            GG              WG\n",
      "WG                            WG\n",
      "WGWGWGWGWGWGWGWGWGWGWGWGWGWGWGWG\n"
     ]
    }
   ],
   "source": [
    "print(str(env))"
   ]
  },
  {
   "cell_type": "code",
   "execution_count": 17,
   "metadata": {},
   "outputs": [
    {
     "data": {
      "text/plain": [
       "{0: <Type.unseen: 'unseen'>,\n",
       " 1: <Type.empty: 'empty'>,\n",
       " 2: <Type.wall: 'wall'>,\n",
       " 3: <Type.floor: 'floor'>,\n",
       " 4: <Type.door: 'door'>,\n",
       " 5: <Type.key: 'key'>,\n",
       " 6: <Type.ball: 'ball'>,\n",
       " 7: <Type.box: 'box'>,\n",
       " 8: <Type.goal: 'goal'>,\n",
       " 9: <Type.lava: 'lava'>,\n",
       " 10: <Type.agent: 'agent'>}"
      ]
     },
     "execution_count": 17,
     "metadata": {},
     "output_type": "execute_result"
    }
   ],
   "source": [
    "from multigrid.core.constants import IDX_TO_OBJECT\n",
    "IDX_TO_OBJECT"
   ]
  },
  {
   "cell_type": "code",
   "execution_count": 25,
   "metadata": {},
   "outputs": [
    {
     "data": {
      "text/plain": [
       "array([[2, 2, 2, 2, 2, 2, 2, 2, 2, 2, 2, 2, 2, 2, 2, 2],\n",
       "       [2, 1, 1, 1, 1, 1, 1, 1, 1, 1, 1, 1, 1, 1, 1, 2],\n",
       "       [2, 1, 1, 1, 1, 1, 1, 1, 1, 1, 1, 1, 1, 1, 1, 2],\n",
       "       [2, 1, 1, 1, 1, 1, 1, 1, 1, 1, 1, 1, 1, 1, 1, 2],\n",
       "       [2, 1, 1, 1, 1, 1, 8, 1, 1, 1, 1, 1, 1, 1, 1, 2],\n",
       "       [2, 1, 1, 1, 1, 1, 1, 1, 1, 1, 1, 1, 1, 1, 1, 2],\n",
       "       [2, 1, 1, 1, 1, 1, 1, 1, 1, 1, 1, 1, 1, 1, 1, 2],\n",
       "       [2, 1, 1, 1, 1, 1, 1, 1, 1, 1, 1, 1, 1, 8, 1, 2],\n",
       "       [2, 1, 1, 1, 1, 1, 1, 1, 1, 1, 1, 1, 1, 1, 1, 2],\n",
       "       [2, 1, 1, 1, 1, 1, 1, 1, 1, 1, 1, 1, 1, 1, 1, 2],\n",
       "       [2, 1, 1, 1, 1, 1, 1, 1, 1, 1, 1, 1, 1, 1, 1, 2],\n",
       "       [2, 1, 1, 1, 1, 1, 1, 1, 1, 1, 1, 1, 1, 1, 1, 2],\n",
       "       [2, 1, 1, 1, 1, 1, 1, 1, 1, 1, 1, 1, 1, 1, 1, 2],\n",
       "       [2, 1, 1, 1, 1, 1, 1, 1, 1, 1, 1, 1, 1, 1, 1, 2],\n",
       "       [2, 1, 1, 1, 1, 1, 1, 1, 1, 1, 1, 1, 8, 1, 1, 2],\n",
       "       [2, 2, 2, 2, 2, 2, 2, 2, 2, 2, 2, 2, 2, 2, 2, 2]])"
      ]
     },
     "execution_count": 25,
     "metadata": {},
     "output_type": "execute_result"
    }
   ],
   "source": [
    "grid = env.grid.state[:, :, 0]\n",
    "grid"
   ]
  },
  {
   "cell_type": "code",
   "execution_count": 29,
   "metadata": {},
   "outputs": [],
   "source": [
    "cost = (grid==2).astype(int)*1000"
   ]
  },
  {
   "cell_type": "code",
   "execution_count": 24,
   "metadata": {},
   "outputs": [
    {
     "data": {
      "text/plain": [
       "<Direction.down: 1>"
      ]
     },
     "execution_count": 24,
     "metadata": {},
     "output_type": "execute_result"
    }
   ],
   "source": [
    "env.agents[0].dir"
   ]
  },
  {
   "cell_type": "code",
   "execution_count": 1,
   "metadata": {},
   "outputs": [],
   "source": []
  }
 ],
 "metadata": {
  "kernelspec": {
   "display_name": "ansr",
   "language": "python",
   "name": "python3"
  },
  "language_info": {
   "codemirror_mode": {
    "name": "ipython",
    "version": 3
   },
   "file_extension": ".py",
   "mimetype": "text/x-python",
   "name": "python",
   "nbconvert_exporter": "python",
   "pygments_lexer": "ipython3",
   "version": "3.10.12"
  }
 },
 "nbformat": 4,
 "nbformat_minor": 2
}
