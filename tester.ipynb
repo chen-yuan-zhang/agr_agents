{
 "cells": [
  {
   "cell_type": "code",
   "execution_count": 21,
   "metadata": {},
   "outputs": [],
   "source": [
    "import numpy as np\n",
    "from gr_pursuer.astar import astar2d\n",
    "from gr_pursuer.agents.evader import Evader\n",
    "from multigrid.envs.evader_pursuer import EvaderPursuerEnv"
   ]
  },
  {
   "cell_type": "code",
   "execution_count": 37,
   "metadata": {},
   "outputs": [],
   "source": [
    "env = PursuerEnv(size=32, agent_view_size=5, render_mode='human')\n",
    "# env.agents[0].view_size = 5\n",
    "env.reset()\n",
    "\n",
    "evader = Evader(env.agents[1], env.goal)\n",
    "observations, infos = env.reset()\n",
    "# observations = [{\"grid\": env.grid.state, \"pos\": agent.pos, \"dir\": agent.dir} \n",
    "#                    for agent in env.agents]"
   ]
  },
  {
   "cell_type": "code",
   "execution_count": 7,
   "metadata": {},
   "outputs": [
    {
     "data": {
      "text/plain": [
       "array([[2, 2, 2, 2, 2, 2, 2, 2, 2, 2, 2, 2, 2, 2, 2, 2],\n",
       "       [2, 1, 1, 1, 1, 1, 1, 1, 1, 1, 1, 1, 1, 1, 1, 2],\n",
       "       [2, 1, 1, 1, 1, 1, 1, 1, 1, 1, 1, 1, 1, 1, 1, 2],\n",
       "       [2, 1, 1, 2, 2, 2, 2, 2, 2, 2, 2, 1, 2, 1, 1, 2],\n",
       "       [2, 1, 1, 1, 1, 1, 1, 1, 1, 1, 1, 1, 2, 1, 1, 2],\n",
       "       [2, 1, 1, 1, 1, 1, 1, 1, 1, 8, 1, 1, 2, 1, 1, 2],\n",
       "       [2, 1, 1, 1, 1, 1, 1, 1, 1, 1, 1, 1, 2, 1, 1, 2],\n",
       "       [2, 1, 1, 1, 1, 1, 1, 1, 1, 1, 1, 1, 2, 1, 1, 2],\n",
       "       [2, 1, 1, 1, 1, 1, 1, 1, 1, 1, 1, 1, 2, 1, 1, 2],\n",
       "       [2, 1, 1, 1, 1, 1, 1, 1, 1, 1, 1, 1, 2, 1, 1, 2],\n",
       "       [2, 1, 1, 1, 1, 1, 1, 1, 1, 1, 1, 1, 2, 1, 1, 2],\n",
       "       [2, 1, 1, 1, 1, 1, 1, 1, 1, 1, 1, 1, 1, 1, 1, 2],\n",
       "       [2, 1, 1, 2, 2, 2, 2, 2, 2, 2, 2, 1, 1, 1, 1, 2],\n",
       "       [2, 1, 1, 1, 1, 1, 8, 1, 1, 1, 1, 1, 1, 1, 1, 2],\n",
       "       [2, 1, 1, 1, 1, 1, 8, 1, 1, 1, 1, 1, 1, 1, 1, 2],\n",
       "       [2, 2, 2, 2, 2, 2, 2, 2, 2, 2, 2, 2, 2, 2, 2, 2]])"
      ]
     },
     "execution_count": 7,
     "metadata": {},
     "output_type": "execute_result"
    },
    {
     "ename": "",
     "evalue": "",
     "output_type": "error",
     "traceback": [
      "\u001b[1;31mThe Kernel crashed while executing code in the current cell or a previous cell. \n",
      "\u001b[1;31mPlease review the code in the cell(s) to identify a possible cause of the failure. \n",
      "\u001b[1;31mClick <a href='https://aka.ms/vscodeJupyterKernelCrash'>here</a> for more info. \n",
      "\u001b[1;31mView Jupyter <a href='command:jupyter.viewOutput'>log</a> for further details."
     ]
    }
   ],
   "source": [
    "grid = observations[0][\"grid\"][:, :, 0]\n",
    "grid"
   ]
  },
  {
   "cell_type": "code",
   "execution_count": 6,
   "metadata": {},
   "outputs": [
    {
     "data": {
      "text/plain": [
       "(8, 4)"
      ]
     },
     "execution_count": 6,
     "metadata": {},
     "output_type": "execute_result"
    }
   ],
   "source": [
    "env.agents[0].pos"
   ]
  },
  {
   "cell_type": "code",
   "execution_count": 7,
   "metadata": {},
   "outputs": [
    {
     "data": {
      "text/plain": [
       "(8, 4)"
      ]
     },
     "execution_count": 7,
     "metadata": {},
     "output_type": "execute_result"
    }
   ],
   "source": [
    "env.agents[0].pos"
   ]
  },
  {
   "cell_type": "code",
   "execution_count": 8,
   "metadata": {},
   "outputs": [
    {
     "data": {
      "text/plain": [
       "5"
      ]
     },
     "execution_count": 8,
     "metadata": {},
     "output_type": "execute_result"
    }
   ],
   "source": [
    "env.agents[0].view_size"
   ]
  },
  {
   "cell_type": "code",
   "execution_count": 9,
   "metadata": {},
   "outputs": [
    {
     "name": "stdout",
     "output_type": "stream",
     "text": [
      "[[[ 1  0  0]\n",
      "  [ 1  0  0]\n",
      "  [ 1  0  0]\n",
      "  [ 1  0  0]\n",
      "  [ 1  0  0]]\n",
      "\n",
      " [[ 1  0  0]\n",
      "  [ 1  0  0]\n",
      "  [ 1  0  0]\n",
      "  [ 8  1  0]\n",
      "  [ 1  0  0]]\n",
      "\n",
      " [[10  1  1]\n",
      "  [ 1  0  0]\n",
      "  [ 1  0  0]\n",
      "  [ 1  0  0]\n",
      "  [ 1  0  0]]\n",
      "\n",
      " [[ 1  0  0]\n",
      "  [ 1  0  0]\n",
      "  [ 1  0  0]\n",
      "  [ 1  0  0]\n",
      "  [ 1  0  0]]\n",
      "\n",
      " [[ 1  0  0]\n",
      "  [ 1  0  0]\n",
      "  [ 1  0  0]\n",
      "  [ 1  0  0]\n",
      "  [ 1  0  0]]]\n"
     ]
    }
   ],
   "source": [
    "a = observations[0][\"image\"]\n",
    "print(a)"
   ]
  },
  {
   "cell_type": "code",
   "execution_count": 13,
   "metadata": {},
   "outputs": [
    {
     "data": {
      "text/plain": [
       "False"
      ]
     },
     "execution_count": 13,
     "metadata": {},
     "output_type": "execute_result"
    }
   ],
   "source": [
    "100 in a"
   ]
  },
  {
   "cell_type": "code",
   "execution_count": 10,
   "metadata": {},
   "outputs": [
    {
     "name": "stdout",
     "output_type": "stream",
     "text": [
      "[ 0  1  8 10]\n"
     ]
    }
   ],
   "source": [
    "print(np.unique(a))"
   ]
  },
  {
   "cell_type": "code",
   "execution_count": 3,
   "metadata": {},
   "outputs": [
    {
     "data": {
      "text/plain": [
       "[[8, 8],\n",
       " [7, 8],\n",
       " [6, 8],\n",
       " [5, 8],\n",
       " [4, 8],\n",
       " [3, 8],\n",
       " [2, 8],\n",
       " [2, 9],\n",
       " [2, 10],\n",
       " [2, 11],\n",
       " [2, 12],\n",
       " [2, 13],\n",
       " [2, 14]]"
      ]
     },
     "execution_count": 3,
     "metadata": {},
     "output_type": "execute_result"
    }
   ],
   "source": [
    "grid = env.grid.state[:, :, 0]\n",
    "cost = (grid==2).astype(int)*1000\n",
    "path = astar2d(observations[1][\"pos\"], env.goal, cost)\n",
    "path"
   ]
  },
  {
   "cell_type": "code",
   "execution_count": 8,
   "metadata": {},
   "outputs": [
    {
     "ename": "ValueError",
     "evalue": "[1, 8] is not in list",
     "output_type": "error",
     "traceback": [
      "\u001b[0;31m---------------------------------------------------------------------------\u001b[0m",
      "\u001b[0;31mValueError\u001b[0m                                Traceback (most recent call last)",
      "Cell \u001b[0;32mIn[8], line 1\u001b[0m\n\u001b[0;32m----> 1\u001b[0m \u001b[43mpath\u001b[49m\u001b[38;5;241;43m.\u001b[39;49m\u001b[43mindex\u001b[49m\u001b[43m(\u001b[49m\u001b[43m[\u001b[49m\u001b[38;5;241;43m1\u001b[39;49m\u001b[43m,\u001b[49m\u001b[43m \u001b[49m\u001b[38;5;241;43m8\u001b[39;49m\u001b[43m]\u001b[49m\u001b[43m)\u001b[49m\n",
      "\u001b[0;31mValueError\u001b[0m: [1, 8] is not in list"
     ]
    },
    {
     "ename": "",
     "evalue": "",
     "output_type": "error",
     "traceback": [
      "\u001b[1;31mThe Kernel crashed while executing code in the current cell or a previous cell. \n",
      "\u001b[1;31mPlease review the code in the cell(s) to identify a possible cause of the failure. \n",
      "\u001b[1;31mClick <a href='https://aka.ms/vscodeJupyterKernelCrash'>here</a> for more info. \n",
      "\u001b[1;31mView Jupyter <a href='command:jupyter.viewOutput'>log</a> for further details."
     ]
    }
   ],
   "source": [
    "i = path.index([1, 8])"
   ]
  },
  {
   "cell_type": "code",
   "execution_count": 4,
   "metadata": {},
   "outputs": [
    {
     "data": {
      "text/plain": [
       "(8, 8)"
      ]
     },
     "execution_count": 4,
     "metadata": {},
     "output_type": "execute_result"
    }
   ],
   "source": [
    "observations[1][\"pos\"]"
   ]
  },
  {
   "cell_type": "code",
   "execution_count": 7,
   "metadata": {},
   "outputs": [],
   "source": [
    "obs = observations[0]"
   ]
  },
  {
   "cell_type": "code",
   "execution_count": 10,
   "metadata": {},
   "outputs": [
    {
     "data": {
      "text/plain": [
       "{'image': array([[[ 1,  0,  0],\n",
       "         [ 1,  0,  0],\n",
       "         [ 1,  0,  0],\n",
       "         [ 1,  0,  0],\n",
       "         [ 1,  0,  0],\n",
       "         [ 1,  0,  0],\n",
       "         [ 1,  0,  0]],\n",
       " \n",
       "        [[ 1,  0,  0],\n",
       "         [ 1,  0,  0],\n",
       "         [ 1,  0,  0],\n",
       "         [ 1,  0,  0],\n",
       "         [ 1,  0,  0],\n",
       "         [ 1,  0,  0],\n",
       "         [ 1,  0,  0]],\n",
       " \n",
       "        [[ 1,  0,  0],\n",
       "         [ 1,  0,  0],\n",
       "         [ 1,  0,  0],\n",
       "         [ 1,  0,  0],\n",
       "         [ 1,  0,  0],\n",
       "         [ 1,  0,  0],\n",
       "         [ 1,  0,  0]],\n",
       " \n",
       "        [[ 1,  0,  0],\n",
       "         [ 1,  0,  0],\n",
       "         [ 1,  0,  0],\n",
       "         [ 1,  0,  0],\n",
       "         [10,  1,  1],\n",
       "         [ 1,  0,  0],\n",
       "         [ 1,  0,  0]],\n",
       " \n",
       "        [[ 1,  0,  0],\n",
       "         [ 1,  0,  0],\n",
       "         [ 1,  0,  0],\n",
       "         [ 1,  0,  0],\n",
       "         [ 1,  0,  0],\n",
       "         [ 1,  0,  0],\n",
       "         [ 1,  0,  0]],\n",
       " \n",
       "        [[ 1,  0,  0],\n",
       "         [ 1,  0,  0],\n",
       "         [ 1,  0,  0],\n",
       "         [ 1,  0,  0],\n",
       "         [ 1,  0,  0],\n",
       "         [ 1,  0,  0],\n",
       "         [ 1,  0,  0]],\n",
       " \n",
       "        [[ 1,  0,  0],\n",
       "         [ 1,  0,  0],\n",
       "         [ 1,  0,  0],\n",
       "         [ 1,  0,  0],\n",
       "         [ 1,  0,  0],\n",
       "         [ 1,  0,  0],\n",
       "         [ 1,  0,  0]]]),\n",
       " 'direction': 1,\n",
       " 'mission': Mission(\"intercept the evader before it reaches the goal\")}"
      ]
     },
     "execution_count": 10,
     "metadata": {},
     "output_type": "execute_result"
    }
   ],
   "source": [
    "obs"
   ]
  },
  {
   "cell_type": "code",
   "execution_count": 14,
   "metadata": {},
   "outputs": [
    {
     "name": "stdout",
     "output_type": "stream",
     "text": [
      "WGWGWGWGWGWGWGWGWGWGWGWGWGWGWGWG\n",
      "WG                            WG\n",
      "WG                            WG\n",
      "WG                            WG\n",
      "WG                            WG\n",
      "WG                            WG\n",
      "WG      GG      VV            WG\n",
      "WG                            WG\n",
      "WG              VV            WG\n",
      "WG                            WG\n",
      "WG                            WG\n",
      "WG                            WG\n",
      "WG                          GGWG\n",
      "WG            GG              WG\n",
      "WG                            WG\n",
      "WGWGWGWGWGWGWGWGWGWGWGWGWGWGWGWG\n"
     ]
    }
   ],
   "source": [
    "print(str(env))"
   ]
  },
  {
   "cell_type": "code",
   "execution_count": 17,
   "metadata": {},
   "outputs": [
    {
     "data": {
      "text/plain": [
       "{0: <Type.unseen: 'unseen'>,\n",
       " 1: <Type.empty: 'empty'>,\n",
       " 2: <Type.wall: 'wall'>,\n",
       " 3: <Type.floor: 'floor'>,\n",
       " 4: <Type.door: 'door'>,\n",
       " 5: <Type.key: 'key'>,\n",
       " 6: <Type.ball: 'ball'>,\n",
       " 7: <Type.box: 'box'>,\n",
       " 8: <Type.goal: 'goal'>,\n",
       " 9: <Type.lava: 'lava'>,\n",
       " 10: <Type.agent: 'agent'>}"
      ]
     },
     "execution_count": 17,
     "metadata": {},
     "output_type": "execute_result"
    }
   ],
   "source": [
    "from multigrid.core.constants import IDX_TO_OBJECT\n",
    "IDX_TO_OBJECT"
   ]
  },
  {
   "cell_type": "code",
   "execution_count": 25,
   "metadata": {},
   "outputs": [
    {
     "data": {
      "text/plain": [
       "array([[2, 2, 2, 2, 2, 2, 2, 2, 2, 2, 2, 2, 2, 2, 2, 2],\n",
       "       [2, 1, 1, 1, 1, 1, 1, 1, 1, 1, 1, 1, 1, 1, 1, 2],\n",
       "       [2, 1, 1, 1, 1, 1, 1, 1, 1, 1, 1, 1, 1, 1, 1, 2],\n",
       "       [2, 1, 1, 1, 1, 1, 1, 1, 1, 1, 1, 1, 1, 1, 1, 2],\n",
       "       [2, 1, 1, 1, 1, 1, 8, 1, 1, 1, 1, 1, 1, 1, 1, 2],\n",
       "       [2, 1, 1, 1, 1, 1, 1, 1, 1, 1, 1, 1, 1, 1, 1, 2],\n",
       "       [2, 1, 1, 1, 1, 1, 1, 1, 1, 1, 1, 1, 1, 1, 1, 2],\n",
       "       [2, 1, 1, 1, 1, 1, 1, 1, 1, 1, 1, 1, 1, 8, 1, 2],\n",
       "       [2, 1, 1, 1, 1, 1, 1, 1, 1, 1, 1, 1, 1, 1, 1, 2],\n",
       "       [2, 1, 1, 1, 1, 1, 1, 1, 1, 1, 1, 1, 1, 1, 1, 2],\n",
       "       [2, 1, 1, 1, 1, 1, 1, 1, 1, 1, 1, 1, 1, 1, 1, 2],\n",
       "       [2, 1, 1, 1, 1, 1, 1, 1, 1, 1, 1, 1, 1, 1, 1, 2],\n",
       "       [2, 1, 1, 1, 1, 1, 1, 1, 1, 1, 1, 1, 1, 1, 1, 2],\n",
       "       [2, 1, 1, 1, 1, 1, 1, 1, 1, 1, 1, 1, 1, 1, 1, 2],\n",
       "       [2, 1, 1, 1, 1, 1, 1, 1, 1, 1, 1, 1, 8, 1, 1, 2],\n",
       "       [2, 2, 2, 2, 2, 2, 2, 2, 2, 2, 2, 2, 2, 2, 2, 2]])"
      ]
     },
     "execution_count": 25,
     "metadata": {},
     "output_type": "execute_result"
    }
   ],
   "source": [
    "grid = env.grid.state[:, :, 0]\n",
    "grid"
   ]
  },
  {
   "cell_type": "code",
   "execution_count": 29,
   "metadata": {},
   "outputs": [],
   "source": [
    "cost = (grid==2).astype(int)*1000"
   ]
  },
  {
   "cell_type": "code",
   "execution_count": 24,
   "metadata": {},
   "outputs": [
    {
     "data": {
      "text/plain": [
       "<Direction.down: 1>"
      ]
     },
     "execution_count": 24,
     "metadata": {},
     "output_type": "execute_result"
    }
   ],
   "source": [
    "env.agents[0].dir"
   ]
  },
  {
   "cell_type": "code",
   "execution_count": 1,
   "metadata": {},
   "outputs": [],
   "source": [
    "import numpy as np"
   ]
  },
  {
   "cell_type": "code",
   "execution_count": 6,
   "metadata": {},
   "outputs": [
    {
     "ename": "NameError",
     "evalue": "name 'IndexedEnum' is not defined",
     "output_type": "error",
     "traceback": [
      "\u001b[0;31m---------------------------------------------------------------------------\u001b[0m",
      "\u001b[0;31mNameError\u001b[0m                                 Traceback (most recent call last)",
      "Cell \u001b[0;32mIn[6], line 1\u001b[0m\n\u001b[0;32m----> 1\u001b[0m \u001b[38;5;28;01mclass\u001b[39;00m \u001b[38;5;21;01mType\u001b[39;00m(\u001b[38;5;28mstr\u001b[39m, \u001b[43mIndexedEnum\u001b[49m):\n\u001b[1;32m      2\u001b[0m \u001b[38;5;250m    \u001b[39m\u001b[38;5;124;03m\"\"\"\u001b[39;00m\n\u001b[1;32m      3\u001b[0m \u001b[38;5;124;03m    Enumeration of object types.\u001b[39;00m\n\u001b[1;32m      4\u001b[0m \u001b[38;5;124;03m    \"\"\"\u001b[39;00m\n\u001b[1;32m      5\u001b[0m     unseen \u001b[38;5;241m=\u001b[39m \u001b[38;5;124m'\u001b[39m\u001b[38;5;124munseen\u001b[39m\u001b[38;5;124m'\u001b[39m\n",
      "\u001b[0;31mNameError\u001b[0m: name 'IndexedEnum' is not defined"
     ]
    }
   ],
   "source": [
    "class Type(str, IndexedEnum):\n",
    "    \"\"\"\n",
    "    Enumeration of object types.\n",
    "    \"\"\"\n",
    "    unseen = 'unseen'\n",
    "    empty = 'empty'\n",
    "    wall = 'wall'\n",
    "    floor = 'floor'\n",
    "    door = 'door'\n",
    "    key = 'key'\n",
    "    ball = 'ball'\n",
    "    box = 'box'\n",
    "    goal = 'goal'\n",
    "    lava = 'lava'\n",
    "    agent = 'agent'\n",
    "\n",
    "class WorldObjMeta(type):\n",
    "    \"\"\"\n",
    "    Metaclass for world objects.\n",
    "\n",
    "    Each subclass is associated with a unique :class:`Type` enumeration value.\n",
    "\n",
    "    By default, the type name is the class name (in lowercase), but this can be\n",
    "    overridden by setting the `type_name` attribute in the class definition.\n",
    "    Type names are dynamically added to the :class:`Type` enumeration\n",
    "    if not already present.\n",
    "\n",
    "    Examples\n",
    "    --------\n",
    "    >>> class A(WorldObj): pass\n",
    "    >>> A().type\n",
    "    <Type.a: 'a'>\n",
    "\n",
    "    >>> class B(WorldObj): type_name = 'goal'\n",
    "    >>> B().type\n",
    "    <Type.goal: 'goal'>\n",
    "\n",
    "    :meta private:\n",
    "    \"\"\"\n",
    "\n",
    "    # Registry of object classes\n",
    "    _TYPE_IDX_TO_CLASS = {}\n",
    "\n",
    "    def __new__(meta, name, bases, class_dict):\n",
    "        cls = super().__new__(meta, name, bases, class_dict)\n",
    "\n",
    "        if name != 'WorldObj':\n",
    "            type_name = class_dict.get('type_name', name.lower())\n",
    "\n",
    "            # Add the object class name to the `Type` enumeration if not already present\n",
    "            if type_name not in set(Type):\n",
    "                Type.add_item(type_name, type_name)\n",
    "\n",
    "            # Store the object class with its corresponding type index\n",
    "            meta._TYPE_IDX_TO_CLASS[Type(type_name).to_index()] = cls\n",
    "\n",
    "        return cls\n",
    "\n",
    "WorldObjMeta()\n",
    "# obj = np.zeros(3, dtype=int).view(1)\n",
    "# obj\n"
   ]
  },
  {
   "cell_type": "code",
   "execution_count": 24,
   "metadata": {},
   "outputs": [
    {
     "data": {
      "text/plain": [
       "<matplotlib.image.AxesImage at 0x7519137dfe80>"
      ]
     },
     "execution_count": 24,
     "metadata": {},
     "output_type": "execute_result"
    },
    {
     "data": {
      "image/png": "[encoded data removed]",
      "text/plain": [
       "<Figure size 1000x500 with 2 Axes>"
      ]
     },
     "metadata": {},
     "output_type": "display_data"
    }
   ],
   "source": [
    "import random\n",
    "import numpy as np\n",
    "from time import sleep\n",
    "import matplotlib.pyplot as plt\n",
    "\n",
    "size = 32\n",
    "cell_size = 2\n",
    "grid = np.ones((size, size), dtype=int)\n",
    "\n",
    "\n",
    "def get_neighbours(coord, directions, size, cell_size):\n",
    "    neighbours = [coord+dir for dir in directions[cell_size-1] \n",
    "                  if np.max(coord+dir) < size and np.min(coord+dir) >= 0]\n",
    "    return neighbours\n",
    "\n",
    "def unfill(grid, coord, size, cell_size):\n",
    "    x1 = np.clip(coord[0], 1, size-1)\n",
    "    x2 = np.clip(x1+cell_size, 1, size-1)\n",
    "    y1 = np.clip(coord[1], 1, size-1)\n",
    "    y2 = np.clip(y1+cell_size, 1, size-1)\n",
    "    grid[x1:x2, y1:y2] = 0\n",
    "    return grid\n",
    "\n",
    "directions = [[np.array([1, 0]), np.array([-1, 0]), np.array([0, 1]), np.array([0, -1])],\n",
    "              [\n",
    "                np.array([-1, 0]), np.array([-1, 1]), np.array([0, 2]), np.array([1, 2]), \n",
    "                np.array([2, 1]), np.array([2, 0]), np.array([0, -1]), np.array([1, -1])\n",
    "               ]\n",
    "              ]\n",
    "\n",
    "#Choose 2 random points\n",
    "start = np.random.randint(0, size//cell_size, 2)\n",
    "start = [1, 1]\n",
    "grid = unfill(grid, start, size, cell_size)\n",
    "explored = {tuple(start): 1}\n",
    "queue = get_neighbours(start, directions, size, cell_size)\n",
    "\n",
    "i = 0\n",
    "while len(queue)>0:\n",
    "    \n",
    "    # idx = random.randint(0, len(queue)-1)\n",
    "    idx = 3 if len(queue)>3 else 0\n",
    "    cell = queue[idx]\n",
    "    explored[tuple(cell)] = 1\n",
    "    neighbours = get_neighbours(cell, directions, size, cell_size)\n",
    "    filled_neighbours = [neighbour for neighbour in neighbours \n",
    "                         if grid[tuple(neighbour)] == 1]\n",
    "\n",
    "    # The cell doesn't have 2 explored neighbours\n",
    "    if ((cell_size==1) and (len(filled_neighbours) > 2) or (cell_size==2) and (len(filled_neighbours) > 2)):\n",
    "        # grid[tuple(cell)] = 0\n",
    "        grid = unfill(grid, cell, size, cell_size)\n",
    "        queue += [neighbour for neighbour in filled_neighbours\n",
    "                  if tuple(neighbour) not in explored]\n",
    "        \n",
    "    # del queue[idx]\n",
    "    queue.pop(idx)\n",
    "\n",
    "    # cell_size = random.randint(1, 3)\n",
    "    cell_size = random.randint(1, 2) if cell[0]%2==0 and cell[1]%2==0 else 1\n",
    "\n",
    "\n",
    "fig, axs = plt.subplots(1, 2, figsize=(10, 5))\n",
    "\n",
    "axs[0].imshow(grid, interpolation='nearest')\n",
    "\n",
    "seudogrid = np.ones((size, size), dtype=int)\n",
    "for point in queue:\n",
    "    seudogrid[tuple(point)] = 0\n",
    "\n",
    "axs[1].imshow(seudogrid, interpolation='nearest')\n"
   ]
  },
  {
   "cell_type": "code",
   "execution_count": null,
   "metadata": {},
   "outputs": [],
   "source": []
  },
  {
   "cell_type": "code",
   "execution_count": 104,
   "metadata": {},
   "outputs": [
    {
     "data": {
      "text/plain": [
       "[array([1, 1]),\n",
       " array([2, 2]),\n",
       " array([3, 2]),\n",
       " array([4, 0]),\n",
       " array([1, 0]),\n",
       " array([4, 2]),\n",
       " array([5, 2]),\n",
       " array([6, 1]),\n",
       " array([6, 0]),\n",
       " array([3, 0])]"
      ]
     },
     "execution_count": 104,
     "metadata": {},
     "output_type": "execute_result"
    }
   ],
   "source": [
    "queue"
   ]
  },
  {
   "cell_type": "code",
   "execution_count": 16,
   "metadata": {},
   "outputs": [],
   "source": [
    "# grid.save(\"grid.npy\")\n",
    "np.save(\"grid.npy\", grid)"
   ]
  },
  {
   "cell_type": "code",
   "execution_count": 38,
   "metadata": {},
   "outputs": [
    {
     "ename": "",
     "evalue": "",
     "output_type": "error",
     "traceback": [
      "\u001b[1;31mThe Kernel crashed while executing code in the current cell or a previous cell. \n",
      "\u001b[1;31mPlease review the code in the cell(s) to identify a possible cause of the failure. \n",
      "\u001b[1;31mClick <a href='https://aka.ms/vscodeJupyterKernelCrash'>here</a> for more info. \n",
      "\u001b[1;31mView Jupyter <a href='command:jupyter.viewOutput'>log</a> for further details."
     ]
    }
   ],
   "source": [
    "rows, cols = np.where(grid==1)\n",
    "env.grid.state[rows, cols] = Wall()"
   ]
  },
  {
   "cell_type": "code",
   "execution_count": 32,
   "metadata": {},
   "outputs": [
    {
     "data": {
      "text/plain": [
       "array([[[2, 5, 0],\n",
       "        [2, 5, 0],\n",
       "        [2, 5, 0],\n",
       "        [2, 5, 0],\n",
       "        [2, 5, 0],\n",
       "        [2, 5, 0],\n",
       "        [2, 5, 0],\n",
       "        [2, 5, 0],\n",
       "        [2, 5, 0],\n",
       "        [2, 5, 0],\n",
       "        [2, 5, 0],\n",
       "        [2, 5, 0],\n",
       "        [2, 5, 0],\n",
       "        [2, 5, 0],\n",
       "        [2, 5, 0],\n",
       "        [2, 5, 0]],\n",
       "\n",
       "       [[2, 5, 0],\n",
       "        [1, 0, 0],\n",
       "        [1, 0, 0],\n",
       "        [1, 0, 0],\n",
       "        [1, 0, 0],\n",
       "        [1, 0, 0],\n",
       "        [1, 0, 0],\n",
       "        [1, 0, 0],\n",
       "        [1, 0, 0],\n",
       "        [1, 0, 0],\n",
       "        [1, 0, 0],\n",
       "        [1, 0, 0],\n",
       "        [1, 0, 0],\n",
       "        [1, 0, 0],\n",
       "        [1, 0, 0],\n",
       "        [2, 5, 0]],\n",
       "\n",
       "       [[2, 5, 0],\n",
       "        [1, 0, 0],\n",
       "        [1, 0, 0],\n",
       "        [1, 0, 0],\n",
       "        [1, 0, 0],\n",
       "        [1, 0, 0],\n",
       "        [1, 0, 0],\n",
       "        [1, 0, 0],\n",
       "        [1, 0, 0],\n",
       "        [1, 0, 0],\n",
       "        [1, 0, 0],\n",
       "        [1, 0, 0],\n",
       "        [1, 0, 0],\n",
       "        [1, 0, 0],\n",
       "        [1, 0, 0],\n",
       "        [2, 5, 0]],\n",
       "\n",
       "       [[2, 5, 0],\n",
       "        [1, 0, 0],\n",
       "        [2, 5, 0],\n",
       "        [2, 5, 0],\n",
       "        [2, 5, 0],\n",
       "        [2, 5, 0],\n",
       "        [2, 5, 0],\n",
       "        [2, 5, 0],\n",
       "        [2, 5, 0],\n",
       "        [2, 5, 0],\n",
       "        [2, 5, 0],\n",
       "        [1, 0, 0],\n",
       "        [2, 5, 0],\n",
       "        [1, 0, 0],\n",
       "        [1, 0, 0],\n",
       "        [2, 5, 0]],\n",
       "\n",
       "       [[2, 5, 0],\n",
       "        [1, 0, 0],\n",
       "        [1, 0, 0],\n",
       "        [1, 0, 0],\n",
       "        [1, 0, 0],\n",
       "        [1, 0, 0],\n",
       "        [2, 5, 0],\n",
       "        [1, 0, 0],\n",
       "        [1, 0, 0],\n",
       "        [1, 0, 0],\n",
       "        [1, 0, 0],\n",
       "        [1, 0, 0],\n",
       "        [2, 5, 0],\n",
       "        [1, 0, 0],\n",
       "        [1, 0, 0],\n",
       "        [2, 5, 0]],\n",
       "\n",
       "       [[2, 5, 0],\n",
       "        [1, 0, 0],\n",
       "        [1, 0, 0],\n",
       "        [1, 0, 0],\n",
       "        [1, 0, 0],\n",
       "        [1, 0, 0],\n",
       "        [2, 5, 0],\n",
       "        [1, 0, 0],\n",
       "        [1, 0, 0],\n",
       "        [1, 0, 0],\n",
       "        [1, 0, 0],\n",
       "        [1, 0, 0],\n",
       "        [2, 5, 0],\n",
       "        [1, 0, 0],\n",
       "        [1, 0, 0],\n",
       "        [2, 5, 0]],\n",
       "\n",
       "       [[2, 5, 0],\n",
       "        [1, 0, 0],\n",
       "        [2, 5, 0],\n",
       "        [2, 5, 0],\n",
       "        [2, 5, 0],\n",
       "        [2, 5, 0],\n",
       "        [2, 5, 0],\n",
       "        [2, 5, 0],\n",
       "        [2, 5, 0],\n",
       "        [2, 5, 0],\n",
       "        [2, 5, 0],\n",
       "        [1, 0, 0],\n",
       "        [2, 5, 0],\n",
       "        [1, 0, 0],\n",
       "        [1, 0, 0],\n",
       "        [2, 5, 0]],\n",
       "\n",
       "       [[2, 5, 0],\n",
       "        [1, 0, 0],\n",
       "        [1, 0, 0],\n",
       "        [1, 0, 0],\n",
       "        [1, 0, 0],\n",
       "        [1, 0, 0],\n",
       "        [1, 0, 0],\n",
       "        [1, 0, 0],\n",
       "        [1, 0, 0],\n",
       "        [1, 0, 0],\n",
       "        [1, 0, 0],\n",
       "        [1, 0, 0],\n",
       "        [2, 5, 0],\n",
       "        [1, 0, 0],\n",
       "        [1, 0, 0],\n",
       "        [2, 5, 0]],\n",
       "\n",
       "       [[2, 5, 0],\n",
       "        [1, 0, 0],\n",
       "        [1, 0, 0],\n",
       "        [1, 0, 0],\n",
       "        [1, 0, 0],\n",
       "        [1, 0, 0],\n",
       "        [1, 0, 0],\n",
       "        [1, 0, 0],\n",
       "        [1, 0, 0],\n",
       "        [1, 0, 0],\n",
       "        [1, 0, 0],\n",
       "        [1, 0, 0],\n",
       "        [2, 5, 0],\n",
       "        [1, 0, 0],\n",
       "        [1, 0, 0],\n",
       "        [2, 5, 0]],\n",
       "\n",
       "       [[2, 5, 0],\n",
       "        [1, 0, 0],\n",
       "        [2, 5, 0],\n",
       "        [2, 5, 0],\n",
       "        [2, 5, 0],\n",
       "        [2, 5, 0],\n",
       "        [2, 5, 0],\n",
       "        [2, 5, 0],\n",
       "        [2, 5, 0],\n",
       "        [2, 5, 0],\n",
       "        [2, 5, 0],\n",
       "        [1, 0, 0],\n",
       "        [2, 5, 0],\n",
       "        [1, 0, 0],\n",
       "        [1, 0, 0],\n",
       "        [2, 5, 0]],\n",
       "\n",
       "       [[2, 5, 0],\n",
       "        [1, 0, 0],\n",
       "        [1, 0, 0],\n",
       "        [1, 0, 0],\n",
       "        [1, 0, 0],\n",
       "        [1, 0, 0],\n",
       "        [2, 5, 0],\n",
       "        [1, 0, 0],\n",
       "        [1, 0, 0],\n",
       "        [1, 0, 0],\n",
       "        [1, 0, 0],\n",
       "        [1, 0, 0],\n",
       "        [2, 5, 0],\n",
       "        [1, 0, 0],\n",
       "        [1, 0, 0],\n",
       "        [2, 5, 0]],\n",
       "\n",
       "       [[2, 5, 0],\n",
       "        [1, 0, 0],\n",
       "        [1, 0, 0],\n",
       "        [1, 0, 0],\n",
       "        [1, 0, 0],\n",
       "        [1, 0, 0],\n",
       "        [2, 5, 0],\n",
       "        [1, 0, 0],\n",
       "        [1, 0, 0],\n",
       "        [1, 0, 0],\n",
       "        [8, 0, 0],\n",
       "        [1, 0, 0],\n",
       "        [2, 5, 0],\n",
       "        [1, 0, 0],\n",
       "        [1, 0, 0],\n",
       "        [2, 5, 0]],\n",
       "\n",
       "       [[2, 5, 0],\n",
       "        [8, 2, 0],\n",
       "        [2, 5, 0],\n",
       "        [2, 5, 0],\n",
       "        [2, 5, 0],\n",
       "        [2, 5, 0],\n",
       "        [2, 5, 0],\n",
       "        [2, 5, 0],\n",
       "        [2, 5, 0],\n",
       "        [2, 5, 0],\n",
       "        [2, 5, 0],\n",
       "        [1, 0, 0],\n",
       "        [2, 5, 0],\n",
       "        [1, 0, 0],\n",
       "        [1, 0, 0],\n",
       "        [2, 5, 0]],\n",
       "\n",
       "       [[2, 5, 0],\n",
       "        [1, 0, 0],\n",
       "        [1, 0, 0],\n",
       "        [1, 0, 0],\n",
       "        [1, 0, 0],\n",
       "        [1, 0, 0],\n",
       "        [1, 0, 0],\n",
       "        [1, 0, 0],\n",
       "        [1, 0, 0],\n",
       "        [1, 0, 0],\n",
       "        [1, 0, 0],\n",
       "        [1, 0, 0],\n",
       "        [8, 1, 0],\n",
       "        [1, 0, 0],\n",
       "        [1, 0, 0],\n",
       "        [2, 5, 0]],\n",
       "\n",
       "       [[2, 5, 0],\n",
       "        [1, 0, 0],\n",
       "        [1, 0, 0],\n",
       "        [1, 0, 0],\n",
       "        [1, 0, 0],\n",
       "        [1, 0, 0],\n",
       "        [1, 0, 0],\n",
       "        [1, 0, 0],\n",
       "        [1, 0, 0],\n",
       "        [1, 0, 0],\n",
       "        [1, 0, 0],\n",
       "        [1, 0, 0],\n",
       "        [1, 0, 0],\n",
       "        [1, 0, 0],\n",
       "        [1, 0, 0],\n",
       "        [2, 5, 0]],\n",
       "\n",
       "       [[2, 5, 0],\n",
       "        [2, 5, 0],\n",
       "        [2, 5, 0],\n",
       "        [2, 5, 0],\n",
       "        [2, 5, 0],\n",
       "        [2, 5, 0],\n",
       "        [2, 5, 0],\n",
       "        [2, 5, 0],\n",
       "        [2, 5, 0],\n",
       "        [2, 5, 0],\n",
       "        [2, 5, 0],\n",
       "        [2, 5, 0],\n",
       "        [2, 5, 0],\n",
       "        [2, 5, 0],\n",
       "        [2, 5, 0],\n",
       "        [2, 5, 0]]])"
      ]
     },
     "execution_count": 32,
     "metadata": {},
     "output_type": "execute_result"
    }
   ],
   "source": [
    "env.grid.state"
   ]
  },
  {
   "cell_type": "code",
   "execution_count": 28,
   "metadata": {},
   "outputs": [
    {
     "data": {
      "text/plain": [
       "array([[[2, 5, 0],\n",
       "        [2, 5, 0],\n",
       "        [2, 5, 0],\n",
       "        [2, 5, 0],\n",
       "        [2, 5, 0],\n",
       "        [2, 5, 0],\n",
       "        [2, 5, 0],\n",
       "        [2, 5, 0],\n",
       "        [2, 5, 0],\n",
       "        [2, 5, 0],\n",
       "        [2, 5, 0],\n",
       "        [2, 5, 0],\n",
       "        [2, 5, 0],\n",
       "        [2, 5, 0],\n",
       "        [2, 5, 0],\n",
       "        [2, 5, 0]],\n",
       "\n",
       "       [[2, 5, 0],\n",
       "        [1, 0, 0],\n",
       "        [1, 0, 0],\n",
       "        [1, 0, 0],\n",
       "        [1, 0, 0],\n",
       "        [1, 0, 0],\n",
       "        [1, 0, 0],\n",
       "        [1, 0, 0],\n",
       "        [1, 0, 0],\n",
       "        [1, 0, 0],\n",
       "        [1, 0, 0],\n",
       "        [1, 0, 0],\n",
       "        [1, 0, 0],\n",
       "        [1, 0, 0],\n",
       "        [1, 0, 0],\n",
       "        [2, 5, 0]],\n",
       "\n",
       "       [[2, 5, 0],\n",
       "        [1, 0, 0],\n",
       "        [1, 0, 0],\n",
       "        [1, 0, 0],\n",
       "        [1, 0, 0],\n",
       "        [1, 0, 0],\n",
       "        [1, 0, 0],\n",
       "        [1, 0, 0],\n",
       "        [1, 0, 0],\n",
       "        [1, 0, 0],\n",
       "        [1, 0, 0],\n",
       "        [1, 0, 0],\n",
       "        [1, 0, 0],\n",
       "        [1, 0, 0],\n",
       "        [1, 0, 0],\n",
       "        [2, 5, 0]],\n",
       "\n",
       "       [[2, 5, 0],\n",
       "        [1, 0, 0],\n",
       "        [2, 5, 0],\n",
       "        [2, 5, 0],\n",
       "        [2, 5, 0],\n",
       "        [2, 5, 0],\n",
       "        [2, 5, 0],\n",
       "        [2, 5, 0],\n",
       "        [2, 5, 0],\n",
       "        [2, 5, 0],\n",
       "        [2, 5, 0],\n",
       "        [1, 0, 0],\n",
       "        [2, 5, 0],\n",
       "        [1, 0, 0],\n",
       "        [1, 0, 0],\n",
       "        [2, 5, 0]],\n",
       "\n",
       "       [[2, 5, 0],\n",
       "        [1, 0, 0],\n",
       "        [1, 0, 0],\n",
       "        [1, 0, 0],\n",
       "        [1, 0, 0],\n",
       "        [1, 0, 0],\n",
       "        [2, 5, 0],\n",
       "        [1, 0, 0],\n",
       "        [1, 0, 0],\n",
       "        [1, 0, 0],\n",
       "        [1, 0, 0],\n",
       "        [1, 0, 0],\n",
       "        [2, 5, 0],\n",
       "        [1, 0, 0],\n",
       "        [1, 0, 0],\n",
       "        [2, 5, 0]],\n",
       "\n",
       "       [[2, 5, 0],\n",
       "        [1, 0, 0],\n",
       "        [1, 0, 0],\n",
       "        [1, 0, 0],\n",
       "        [1, 0, 0],\n",
       "        [1, 0, 0],\n",
       "        [2, 5, 0],\n",
       "        [1, 0, 0],\n",
       "        [1, 0, 0],\n",
       "        [1, 0, 0],\n",
       "        [1, 0, 0],\n",
       "        [1, 0, 0],\n",
       "        [2, 5, 0],\n",
       "        [1, 0, 0],\n",
       "        [1, 0, 0],\n",
       "        [2, 5, 0]],\n",
       "\n",
       "       [[2, 5, 0],\n",
       "        [1, 0, 0],\n",
       "        [2, 5, 0],\n",
       "        [2, 5, 0],\n",
       "        [2, 5, 0],\n",
       "        [2, 5, 0],\n",
       "        [2, 5, 0],\n",
       "        [2, 5, 0],\n",
       "        [2, 5, 0],\n",
       "        [2, 5, 0],\n",
       "        [2, 5, 0],\n",
       "        [1, 0, 0],\n",
       "        [2, 5, 0],\n",
       "        [1, 0, 0],\n",
       "        [1, 0, 0],\n",
       "        [2, 5, 0]],\n",
       "\n",
       "       [[2, 5, 0],\n",
       "        [1, 0, 0],\n",
       "        [1, 0, 0],\n",
       "        [1, 0, 0],\n",
       "        [1, 0, 0],\n",
       "        [1, 0, 0],\n",
       "        [1, 0, 0],\n",
       "        [1, 0, 0],\n",
       "        [1, 0, 0],\n",
       "        [1, 0, 0],\n",
       "        [1, 0, 0],\n",
       "        [1, 0, 0],\n",
       "        [2, 5, 0],\n",
       "        [1, 0, 0],\n",
       "        [1, 0, 0],\n",
       "        [2, 5, 0]],\n",
       "\n",
       "       [[2, 5, 0],\n",
       "        [1, 0, 0],\n",
       "        [1, 0, 0],\n",
       "        [1, 0, 0],\n",
       "        [1, 0, 0],\n",
       "        [1, 0, 0],\n",
       "        [1, 0, 0],\n",
       "        [1, 0, 0],\n",
       "        [1, 0, 0],\n",
       "        [1, 0, 0],\n",
       "        [1, 0, 0],\n",
       "        [1, 0, 0],\n",
       "        [2, 5, 0],\n",
       "        [1, 0, 0],\n",
       "        [1, 0, 0],\n",
       "        [2, 5, 0]],\n",
       "\n",
       "       [[2, 5, 0],\n",
       "        [1, 0, 0],\n",
       "        [2, 5, 0],\n",
       "        [2, 5, 0],\n",
       "        [2, 5, 0],\n",
       "        [2, 5, 0],\n",
       "        [2, 5, 0],\n",
       "        [2, 5, 0],\n",
       "        [2, 5, 0],\n",
       "        [2, 5, 0],\n",
       "        [2, 5, 0],\n",
       "        [1, 0, 0],\n",
       "        [2, 5, 0],\n",
       "        [1, 0, 0],\n",
       "        [1, 0, 0],\n",
       "        [2, 5, 0]],\n",
       "\n",
       "       [[2, 5, 0],\n",
       "        [1, 0, 0],\n",
       "        [1, 0, 0],\n",
       "        [1, 0, 0],\n",
       "        [1, 0, 0],\n",
       "        [1, 0, 0],\n",
       "        [2, 5, 0],\n",
       "        [1, 0, 0],\n",
       "        [1, 0, 0],\n",
       "        [1, 0, 0],\n",
       "        [1, 0, 0],\n",
       "        [1, 0, 0],\n",
       "        [2, 5, 0],\n",
       "        [1, 0, 0],\n",
       "        [1, 0, 0],\n",
       "        [2, 5, 0]],\n",
       "\n",
       "       [[2, 5, 0],\n",
       "        [1, 0, 0],\n",
       "        [1, 0, 0],\n",
       "        [1, 0, 0],\n",
       "        [1, 0, 0],\n",
       "        [1, 0, 0],\n",
       "        [2, 5, 0],\n",
       "        [1, 0, 0],\n",
       "        [1, 0, 0],\n",
       "        [1, 0, 0],\n",
       "        [8, 0, 0],\n",
       "        [1, 0, 0],\n",
       "        [2, 5, 0],\n",
       "        [1, 0, 0],\n",
       "        [1, 0, 0],\n",
       "        [2, 5, 0]],\n",
       "\n",
       "       [[2, 5, 0],\n",
       "        [8, 2, 0],\n",
       "        [2, 5, 0],\n",
       "        [2, 5, 0],\n",
       "        [2, 5, 0],\n",
       "        [2, 5, 0],\n",
       "        [2, 5, 0],\n",
       "        [2, 5, 0],\n",
       "        [2, 5, 0],\n",
       "        [2, 5, 0],\n",
       "        [2, 5, 0],\n",
       "        [1, 0, 0],\n",
       "        [2, 5, 0],\n",
       "        [1, 0, 0],\n",
       "        [1, 0, 0],\n",
       "        [2, 5, 0]],\n",
       "\n",
       "       [[2, 5, 0],\n",
       "        [1, 0, 0],\n",
       "        [1, 0, 0],\n",
       "        [1, 0, 0],\n",
       "        [1, 0, 0],\n",
       "        [1, 0, 0],\n",
       "        [1, 0, 0],\n",
       "        [1, 0, 0],\n",
       "        [1, 0, 0],\n",
       "        [1, 0, 0],\n",
       "        [1, 0, 0],\n",
       "        [1, 0, 0],\n",
       "        [8, 1, 0],\n",
       "        [1, 0, 0],\n",
       "        [1, 0, 0],\n",
       "        [2, 5, 0]],\n",
       "\n",
       "       [[2, 5, 0],\n",
       "        [1, 0, 0],\n",
       "        [1, 0, 0],\n",
       "        [1, 0, 0],\n",
       "        [1, 0, 0],\n",
       "        [1, 0, 0],\n",
       "        [1, 0, 0],\n",
       "        [1, 0, 0],\n",
       "        [1, 0, 0],\n",
       "        [1, 0, 0],\n",
       "        [1, 0, 0],\n",
       "        [1, 0, 0],\n",
       "        [1, 0, 0],\n",
       "        [1, 0, 0],\n",
       "        [1, 0, 0],\n",
       "        [2, 5, 0]],\n",
       "\n",
       "       [[2, 5, 0],\n",
       "        [2, 5, 0],\n",
       "        [2, 5, 0],\n",
       "        [2, 5, 0],\n",
       "        [2, 5, 0],\n",
       "        [2, 5, 0],\n",
       "        [2, 5, 0],\n",
       "        [2, 5, 0],\n",
       "        [2, 5, 0],\n",
       "        [2, 5, 0],\n",
       "        [2, 5, 0],\n",
       "        [2, 5, 0],\n",
       "        [2, 5, 0],\n",
       "        [2, 5, 0],\n",
       "        [2, 5, 0],\n",
       "        [2, 5, 0]]])"
      ]
     },
     "execution_count": 28,
     "metadata": {},
     "output_type": "execute_result"
    }
   ],
   "source": [
    "# from .world_object import Wall\n",
    "from multigrid.core.world_object import Wall\n",
    "\n",
    "env.grid.state\n"
   ]
  },
  {
   "cell_type": "code",
   "execution_count": 66,
   "metadata": {},
   "outputs": [
    {
     "ename": "IndexError",
     "evalue": "boolean index did not match indexed array along dimension 0; dimension is 32 but corresponding boolean dimension is 10",
     "output_type": "error",
     "traceback": [
      "\u001b[0;31m---------------------------------------------------------------------------\u001b[0m",
      "\u001b[0;31mIndexError\u001b[0m                                Traceback (most recent call last)",
      "Cell \u001b[0;32mIn[66], line 1\u001b[0m\n\u001b[0;32m----> 1\u001b[0m \u001b[43mgrid\u001b[49m\u001b[43m[\u001b[49m\u001b[43mnp\u001b[49m\u001b[38;5;241;43m.\u001b[39;49m\u001b[43marange\u001b[49m\u001b[43m(\u001b[49m\u001b[38;5;241;43m0\u001b[39;49m\u001b[43m,\u001b[49m\u001b[43m \u001b[49m\u001b[38;5;241;43m10\u001b[39;49m\u001b[43m,\u001b[49m\u001b[43m \u001b[49m\u001b[38;5;241;43m1\u001b[39;49m\u001b[43m)\u001b[49m\u001b[38;5;241;43m/\u001b[39;49m\u001b[38;5;241;43m/\u001b[39;49m\u001b[38;5;241;43m2\u001b[39;49m\u001b[43m \u001b[49m\u001b[38;5;241;43m==\u001b[39;49m\u001b[43m \u001b[49m\u001b[38;5;241;43m1\u001b[39;49m\u001b[43m,\u001b[49m\u001b[43m \u001b[49m\u001b[43mnp\u001b[49m\u001b[38;5;241;43m.\u001b[39;49m\u001b[43marange\u001b[49m\u001b[43m(\u001b[49m\u001b[38;5;241;43m0\u001b[39;49m\u001b[43m,\u001b[49m\u001b[43m \u001b[49m\u001b[38;5;241;43m10\u001b[39;49m\u001b[43m,\u001b[49m\u001b[43m \u001b[49m\u001b[38;5;241;43m1\u001b[39;49m\u001b[43m)\u001b[49m\u001b[38;5;241;43m/\u001b[39;49m\u001b[38;5;241;43m/\u001b[39;49m\u001b[38;5;241;43m2\u001b[39;49m\u001b[43m \u001b[49m\u001b[38;5;241;43m==\u001b[39;49m\u001b[43m \u001b[49m\u001b[38;5;241;43m2\u001b[39;49m\u001b[43m]\u001b[49m\n",
      "\u001b[0;31mIndexError\u001b[0m: boolean index did not match indexed array along dimension 0; dimension is 32 but corresponding boolean dimension is 10"
     ]
    }
   ],
   "source": [
    "[np.arange(0, 10, 1)//2 == 1, np.arange(0, 10, 1)//2 == 2]"
   ]
  },
  {
   "cell_type": "code",
   "execution_count": 61,
   "metadata": {},
   "outputs": [
    {
     "data": {
      "text/plain": [
       "[0, 0, 1, 1, 2, 2, 3, 3, 4, 4]"
      ]
     },
     "execution_count": 61,
     "metadata": {},
     "output_type": "execute_result"
    }
   ],
   "source": [
    "a = list(range(10))\n",
    "[e//2 for e in a]"
   ]
  },
  {
   "cell_type": "code",
   "execution_count": 33,
   "metadata": {},
   "outputs": [
    {
     "data": {
      "text/plain": [
       "[array([9, 3]), array([7, 3]), array([8, 4]), array([8, 2])]"
      ]
     },
     "execution_count": 33,
     "metadata": {},
     "output_type": "execute_result"
    }
   ],
   "source": [
    "queue\n",
    "# random.choice(len(queue))"
   ]
  },
  {
   "cell_type": "code",
   "execution_count": 41,
   "metadata": {},
   "outputs": [],
   "source": [
    "# choose a ramdom number between 0 and len(queue)\n",
    "\n",
    "idx = random.randint(0, 100)"
   ]
  }
 ],
 "metadata": {
  "kernelspec": {
   "display_name": "ansr",
   "language": "python",
   "name": "python3"
  },
  "language_info": {
   "codemirror_mode": {
    "name": "ipython",
    "version": 3
   },
   "file_extension": ".py",
   "mimetype": "text/x-python",
   "name": "python",
   "nbconvert_exporter": "python",
   "pygments_lexer": "ipython3",
   "version": "3.10.12"
  }
 },
 "nbformat": 4,
 "nbformat_minor": 2
}
