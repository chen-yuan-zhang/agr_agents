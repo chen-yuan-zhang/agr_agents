{
 "cells": [
  {
   "cell_type": "code",
   "execution_count": 1,
   "metadata": {},
   "outputs": [],
   "source": [
    "import torch\n",
    "import numpy as np\n",
    "import pandas as pd\n",
    "\n",
    "from tqdm.notebook import tqdm\n",
    "from torch.utils.data import DataLoader\n",
    "\n",
    "from dataset import TargetDataset, preprocess_data\n",
    "from model import TransformerPredictor"
   ]
  },
  {
   "cell_type": "code",
   "execution_count": 2,
   "metadata": {},
   "outputs": [],
   "source": [
    "# PARAMETERS\n",
    "SIZE = 64\n",
    "OBSERVATION_WINDOW = 17\n",
    "\n",
    "data_runs = pd.read_csv('../data/dataset_s64_h0.csv')\n",
    "data_scenarios = pd.read_csv('../data/scenarios_s64_h0.csv')\n",
    "data = pd.merge(data_runs, data_scenarios[[\"layout\", \"scenario\", \"goals\", \"target_goal\"]], on=[\"layout\", \"scenario\"])\n",
    "data = preprocess_data(data, OBSERVATION_WINDOW, SIZE)"
   ]
  },
  {
   "cell_type": "code",
   "execution_count": 3,
   "metadata": {},
   "outputs": [],
   "source": [
    "nlayouts = len(data[\"layout\"].unique())\n",
    "data.loc[data[\"layout\"]<=nlayouts*0.7, \"PARTITION\"] = \"TRAIN\"\n",
    "data.loc[(data[\"layout\"]>nlayouts*0.7) & (data[\"layout\"]<=nlayouts*0.85), \"PARTITION\"] = \"VALID\"\n",
    "data.loc[data[\"layout\"]>nlayouts*0.85, \"PARTITION\"] = \"TEST\""
   ]
  },
  {
   "cell_type": "code",
   "execution_count": 4,
   "metadata": {},
   "outputs": [
    {
     "name": "stderr",
     "output_type": "stream",
     "text": [
      "/home/crarojasca/Storage/anaconda3/envs/ansr/lib/python3.10/site-packages/torch/nn/modules/transformer.py:307: UserWarning: enable_nested_tensor is True, but self.use_nested_tensor is False because encoder_layer.self_attn.batch_first was not True(use batch_first for better inference performance)\n",
      "  warnings.warn(f\"enable_nested_tensor is True, but self.use_nested_tensor is False because {why_not_sparsity_fast_path}\")\n"
     ]
    }
   ],
   "source": [
    "# Dynamically determine input dimension\n",
    "state_dim = 6\n",
    "action_dim = len(data.iloc[0]['action_encoding'])\n",
    "goals_dim = len(data.iloc[0]['goals_encoding'])\n",
    "grid_dim = data[\"grid_encoding\"][0].shape[0]\n",
    "mlp_grid_dim = [grid_dim, 256, 64, 30]\n",
    "\n",
    "goals_dim = len(data.iloc[0]['goals_encoding'])\n",
    "\n",
    "device = torch.device(\"cuda\" if torch.cuda.is_available() else \"cpu\")\n",
    "model = TransformerPredictor(state_dim=state_dim, goals_dim=goals_dim, mlp_grid_dim=mlp_grid_dim, window=OBSERVATION_WINDOW,\n",
    "                             num_layers=1, num_heads=4, output_dim=action_dim).to(device)\n",
    "model.load_state_dict(torch.load(\"models/basicDiscrete-2025-02-24_11:57:50.379798.pth\", weights_only=True))\n",
    "model.eval()\n",
    "\n",
    "dataset = TargetDataset(data, OBSERVATION_WINDOW)\n",
    "dataloader = DataLoader(dataset, batch_size=32, shuffle=False)"
   ]
  },
  {
   "cell_type": "code",
   "execution_count": 5,
   "metadata": {},
   "outputs": [
    {
     "data": {
      "application/vnd.jupyter.widget-view+json": {
       "model_id": "5f5f5a590bff4f308a75b242ba51d985",
       "version_major": 2,
       "version_minor": 0
      },
      "text/plain": [
       "  0%|          | 0/418 [00:00<?, ?it/s]"
      ]
     },
     "metadata": {},
     "output_type": "display_data"
    }
   ],
   "source": [
    "predictions = []\n",
    "for batch in tqdm(dataloader):\n",
    "    batch = {k: v.to(device) for k, v in batch.items()}\n",
    "    pred = model(batch)#.tolist()\n",
    "    pred = torch.nn.functional.softmax(pred, dim=1).detach().cpu().tolist()\n",
    "    predictions += pred \n",
    "\n",
    "dataset.index[\"probs\"] = predictions\n",
    "data_pred = pd.merge(data.reset_index(drop=False), dataset.index, on=[\"index\"])\n",
    "data_pred[\"pred\"] = data_pred[\"probs\"].apply(lambda x: np.argmax(x))"
   ]
  },
  {
   "cell_type": "code",
   "execution_count": 6,
   "metadata": {},
   "outputs": [
    {
     "name": "stdout",
     "output_type": "stream",
     "text": [
      "Precision TRAIN: 0.7467508046958992\n",
      "Recall TRAIN: 0.6603444139925454\n",
      "F1 TRAIN: 0.6942668164491681\n",
      "Accuracy TRAIN: 0.8184583114840063\n",
      "Precision VALID: 0.6111507792962175\n",
      "Recall VALID: 0.5407805525563844\n",
      "F1 VALID: 0.5663024803503119\n",
      "Accuracy VALID: 0.7406890130353817\n",
      "Precision TEST: 0.6212089800601193\n",
      "Recall TEST: 0.5387693403014976\n",
      "F1 TEST: 0.5667017305611547\n",
      "Accuracy TEST: 0.7449344457687723\n"
     ]
    }
   ],
   "source": [
    "# Compute the classification metrics\n",
    "from sklearn.metrics import f1_score, accuracy_score, precision_score, recall_score\n",
    "# Evaluate the model\n",
    "for p in [\"TRAIN\", \"VALID\", \"TEST\"]:\n",
    "    data_pred_p = data_pred[data_pred[\"PARTITION\"] == p]\n",
    "    y_pred = data_pred_p[\"pred\"].values\n",
    "    y_true = data_pred_p[\"action\"].astype(int).values\n",
    "\n",
    "    precision = precision_score(y_true, y_pred, average=\"macro\")\n",
    "    recall = recall_score(y_true, y_pred, average=\"macro\")\n",
    "    f1 = f1_score(y_true, y_pred, average=\"macro\")\n",
    "    accuracy = accuracy_score(y_true, y_pred)\n",
    "\n",
    "    print(f\"Precision {p}: {precision}\")\n",
    "    print(f\"Recall {p}: {recall}\")\n",
    "    print(f\"F1 {p}: {f1}\")\n",
    "    print(f\"Accuracy {p}: {accuracy}\")\n",
    "\n",
    "# y_true = data_pred[\"\"][\"action\"].values\n"
   ]
  },
  {
   "cell_type": "code",
   "execution_count": 10,
   "metadata": {},
   "outputs": [
    {
     "data": {
      "image/png": "[encoded data removed]",
      "text/plain": [
       "<Figure size 640x480 with 2 Axes>"
      ]
     },
     "metadata": {},
     "output_type": "display_data"
    }
   ],
   "source": [
    "# Confussion matrix\n",
    "from sklearn.metrics import confusion_matrix\n",
    "import seaborn as sns\n",
    "import matplotlib.pyplot as plt\n",
    "\n",
    "cm = confusion_matrix(data_pred[\"action\"].astype(int), data_pred[\"pred\"].astype(int))#,# normalize=\"false\")\n",
    "sns.heatmap(cm, annot=True)\n",
    "plt.show()"
   ]
  },
  {
   "cell_type": "code",
   "execution_count": 12,
   "metadata": {},
   "outputs": [
    {
     "data": {
      "text/plain": [
       "action\n",
       "2.0    0.730784\n",
       "0.0    0.136143\n",
       "1.0    0.133074\n",
       "Name: proportion, dtype: float64"
      ]
     },
     "execution_count": 12,
     "metadata": {},
     "output_type": "execute_result"
    }
   ],
   "source": [
    "data_pred[\"action\"].value_counts(normalize=True)"
   ]
  },
  {
   "cell_type": "code",
   "execution_count": null,
   "metadata": {},
   "outputs": [],
   "source": [
    "def process_pred(pred):\n",
    "    coord = tuple(np.round(np.array(pred[:2])*SIZE).astype(int))\n",
    "    orientation = int(np.argmax(pred[2:6]))\n",
    "    instance_end = int(np.round(pred[6]))\n",
    "\n",
    "    return pd.Series({\n",
    "        \"pred_target_pos\": coord, \n",
    "        \"pred_orientation\": orientation, \n",
    "        \"pred_instance_end\": instance_end})\n",
    "\n",
    "data_pred[[\"pred_target_pos\", \"pred_orientation\", \"pred_instance_end\"]] = data_pred[\"pred\"].apply(process_pred)\n",
    "\n",
    "data_pred[\"next_target_pos\"] = data_pred[\"target_pos\"].tolist()[1:] + [(0, 0)]\n",
    "data_pred[\"next_target_pos\"] = data_pred.apply(lambda x: (0, 0) if x[\"instance_end\"] == 1 else x[\"next_target_pos\"], axis=1)\n",
    "data_pred[\"next_target_dir\"] = data_pred[\"target_dir\"].tolist()[1:] + [0]\n",
    "data_pred[\"next_target_dir\"] = data_pred.apply(lambda x: 0 if x[\"instance_end\"] == 1 else x[\"next_target_dir\"], axis=1)"
   ]
  },
  {
   "cell_type": "code",
   "execution_count": 30,
   "metadata": {},
   "outputs": [
    {
     "data": {
      "text/html": [
       "<div>\n",
       "<style scoped>\n",
       "    .dataframe tbody tr th:only-of-type {\n",
       "        vertical-align: middle;\n",
       "    }\n",
       "\n",
       "    .dataframe tbody tr th {\n",
       "        vertical-align: top;\n",
       "    }\n",
       "\n",
       "    .dataframe thead th {\n",
       "        text-align: right;\n",
       "    }\n",
       "</style>\n",
       "<table border=\"1\" class=\"dataframe\">\n",
       "  <thead>\n",
       "    <tr style=\"text-align: right;\">\n",
       "      <th></th>\n",
       "      <th>target_pos</th>\n",
       "      <th>target_dir</th>\n",
       "      <th>next_target_pos</th>\n",
       "      <th>next_target_dir</th>\n",
       "      <th>instance_end</th>\n",
       "      <th>pred_target_pos</th>\n",
       "      <th>pred_orientation</th>\n",
       "      <th>pred_instance_end</th>\n",
       "    </tr>\n",
       "  </thead>\n",
       "  <tbody>\n",
       "    <tr>\n",
       "      <th>6280</th>\n",
       "      <td>(7, 6)</td>\n",
       "      <td>2</td>\n",
       "      <td>(6, 6)</td>\n",
       "      <td>2</td>\n",
       "      <td>0</td>\n",
       "      <td>(7, 8)</td>\n",
       "      <td>2</td>\n",
       "      <td>0</td>\n",
       "    </tr>\n",
       "    <tr>\n",
       "      <th>6281</th>\n",
       "      <td>(6, 6)</td>\n",
       "      <td>2</td>\n",
       "      <td>(5, 6)</td>\n",
       "      <td>2</td>\n",
       "      <td>0</td>\n",
       "      <td>(9, 9)</td>\n",
       "      <td>2</td>\n",
       "      <td>0</td>\n",
       "    </tr>\n",
       "    <tr>\n",
       "      <th>6282</th>\n",
       "      <td>(5, 6)</td>\n",
       "      <td>2</td>\n",
       "      <td>(4, 6)</td>\n",
       "      <td>2</td>\n",
       "      <td>0</td>\n",
       "      <td>(8, 8)</td>\n",
       "      <td>2</td>\n",
       "      <td>0</td>\n",
       "    </tr>\n",
       "    <tr>\n",
       "      <th>6283</th>\n",
       "      <td>(4, 6)</td>\n",
       "      <td>2</td>\n",
       "      <td>(3, 6)</td>\n",
       "      <td>2</td>\n",
       "      <td>0</td>\n",
       "      <td>(7, 8)</td>\n",
       "      <td>2</td>\n",
       "      <td>0</td>\n",
       "    </tr>\n",
       "    <tr>\n",
       "      <th>6284</th>\n",
       "      <td>(3, 6)</td>\n",
       "      <td>2</td>\n",
       "      <td>(3, 6)</td>\n",
       "      <td>1</td>\n",
       "      <td>0</td>\n",
       "      <td>(6, 8)</td>\n",
       "      <td>2</td>\n",
       "      <td>0</td>\n",
       "    </tr>\n",
       "    <tr>\n",
       "      <th>...</th>\n",
       "      <td>...</td>\n",
       "      <td>...</td>\n",
       "      <td>...</td>\n",
       "      <td>...</td>\n",
       "      <td>...</td>\n",
       "      <td>...</td>\n",
       "      <td>...</td>\n",
       "      <td>...</td>\n",
       "    </tr>\n",
       "    <tr>\n",
       "      <th>7675</th>\n",
       "      <td>(18, 20)</td>\n",
       "      <td>3</td>\n",
       "      <td>(18, 20)</td>\n",
       "      <td>0</td>\n",
       "      <td>0</td>\n",
       "      <td>(15, 16)</td>\n",
       "      <td>0</td>\n",
       "      <td>0</td>\n",
       "    </tr>\n",
       "    <tr>\n",
       "      <th>7676</th>\n",
       "      <td>(18, 20)</td>\n",
       "      <td>0</td>\n",
       "      <td>(19, 20)</td>\n",
       "      <td>0</td>\n",
       "      <td>0</td>\n",
       "      <td>(16, 17)</td>\n",
       "      <td>0</td>\n",
       "      <td>0</td>\n",
       "    </tr>\n",
       "    <tr>\n",
       "      <th>7677</th>\n",
       "      <td>(19, 20)</td>\n",
       "      <td>0</td>\n",
       "      <td>(20, 20)</td>\n",
       "      <td>0</td>\n",
       "      <td>0</td>\n",
       "      <td>(16, 16)</td>\n",
       "      <td>0</td>\n",
       "      <td>0</td>\n",
       "    </tr>\n",
       "    <tr>\n",
       "      <th>7678</th>\n",
       "      <td>(20, 20)</td>\n",
       "      <td>0</td>\n",
       "      <td>(21, 20)</td>\n",
       "      <td>0</td>\n",
       "      <td>0</td>\n",
       "      <td>(17, 16)</td>\n",
       "      <td>0</td>\n",
       "      <td>0</td>\n",
       "    </tr>\n",
       "    <tr>\n",
       "      <th>7679</th>\n",
       "      <td>(21, 20)</td>\n",
       "      <td>0</td>\n",
       "      <td>(0, 0)</td>\n",
       "      <td>0</td>\n",
       "      <td>1</td>\n",
       "      <td>(18, 16)</td>\n",
       "      <td>0</td>\n",
       "      <td>0</td>\n",
       "    </tr>\n",
       "  </tbody>\n",
       "</table>\n",
       "<p>1400 rows × 8 columns</p>\n",
       "</div>"
      ],
      "text/plain": [
       "     target_pos  target_dir next_target_pos  next_target_dir  instance_end  \\\n",
       "6280     (7, 6)           2          (6, 6)                2             0   \n",
       "6281     (6, 6)           2          (5, 6)                2             0   \n",
       "6282     (5, 6)           2          (4, 6)                2             0   \n",
       "6283     (4, 6)           2          (3, 6)                2             0   \n",
       "6284     (3, 6)           2          (3, 6)                1             0   \n",
       "...         ...         ...             ...              ...           ...   \n",
       "7675   (18, 20)           3        (18, 20)                0             0   \n",
       "7676   (18, 20)           0        (19, 20)                0             0   \n",
       "7677   (19, 20)           0        (20, 20)                0             0   \n",
       "7678   (20, 20)           0        (21, 20)                0             0   \n",
       "7679   (21, 20)           0          (0, 0)                0             1   \n",
       "\n",
       "     pred_target_pos  pred_orientation  pred_instance_end  \n",
       "6280          (7, 8)                 2                  0  \n",
       "6281          (9, 9)                 2                  0  \n",
       "6282          (8, 8)                 2                  0  \n",
       "6283          (7, 8)                 2                  0  \n",
       "6284          (6, 8)                 2                  0  \n",
       "...              ...               ...                ...  \n",
       "7675        (15, 16)                 0                  0  \n",
       "7676        (16, 17)                 0                  0  \n",
       "7677        (16, 16)                 0                  0  \n",
       "7678        (17, 16)                 0                  0  \n",
       "7679        (18, 16)                 0                  0  \n",
       "\n",
       "[1400 rows x 8 columns]"
      ]
     },
     "execution_count": 30,
     "metadata": {},
     "output_type": "execute_result"
    }
   ],
   "source": [
    "data_pred.loc[data_pred[\"PARTITION\"]==\"VALID\", [\"target_pos\", \"target_dir\",  \n",
    "                                                \"next_target_pos\", \"next_target_dir\", \"instance_end\",\n",
    "                                                \"pred_target_pos\", \"pred_orientation\", \"pred_instance_end\"]]#.to_csv(\"predictions.csv\", index=False)"
   ]
  },
  {
   "cell_type": "code",
   "execution_count": null,
   "metadata": {},
   "outputs": [
    {
     "ename": "TypeError",
     "evalue": "eval() arg 1 must be a string, bytes or code object",
     "output_type": "error",
     "traceback": [
      "\u001b[0;31m---------------------------------------------------------------------------\u001b[0m",
      "\u001b[0;31mTypeError\u001b[0m                                 Traceback (most recent call last)",
      "Cell \u001b[0;32mIn[37], line 2\u001b[0m\n\u001b[1;32m      1\u001b[0m \u001b[38;5;66;03m#Metrics\u001b[39;00m\n\u001b[0;32m----> 2\u001b[0m data_pred[\u001b[38;5;124m\"\u001b[39m\u001b[38;5;124mtarget_goal\u001b[39m\u001b[38;5;124m\"\u001b[39m] \u001b[38;5;241m=\u001b[39m \u001b[43mdata_pred\u001b[49m\u001b[43m[\u001b[49m\u001b[38;5;124;43m\"\u001b[39;49m\u001b[38;5;124;43mtarget_goal\u001b[39;49m\u001b[38;5;124;43m\"\u001b[39;49m\u001b[43m]\u001b[49m\u001b[38;5;241;43m.\u001b[39;49m\u001b[43mapply\u001b[49m\u001b[43m(\u001b[49m\u001b[38;5;28;43meval\u001b[39;49m\u001b[43m)\u001b[49m\n\u001b[1;32m      3\u001b[0m data_pred[\u001b[38;5;124m\"\u001b[39m\u001b[38;5;124mdistance2goal\u001b[39m\u001b[38;5;124m\"\u001b[39m] \u001b[38;5;241m=\u001b[39m data_pred\u001b[38;5;241m.\u001b[39mapply(\u001b[38;5;28;01mlambda\u001b[39;00m x: np\u001b[38;5;241m.\u001b[39mlinalg\u001b[38;5;241m.\u001b[39mnorm(np\u001b[38;5;241m.\u001b[39marray(x[\u001b[38;5;124m\"\u001b[39m\u001b[38;5;124mpred_target_pos\u001b[39m\u001b[38;5;124m\"\u001b[39m]) \u001b[38;5;241m-\u001b[39m np\u001b[38;5;241m.\u001b[39marray(x[\u001b[38;5;124m\"\u001b[39m\u001b[38;5;124mtarget_goal\u001b[39m\u001b[38;5;124m\"\u001b[39m])) \\\n\u001b[1;32m      4\u001b[0m                                              \u001b[38;5;241m-\u001b[39m np\u001b[38;5;241m.\u001b[39mlinalg\u001b[38;5;241m.\u001b[39mnorm(np\u001b[38;5;241m.\u001b[39marray(x[\u001b[38;5;124m\"\u001b[39m\u001b[38;5;124mtarget_pos\u001b[39m\u001b[38;5;124m\"\u001b[39m]) \u001b[38;5;241m-\u001b[39m np\u001b[38;5;241m.\u001b[39marray(x[\u001b[38;5;124m\"\u001b[39m\u001b[38;5;124mtarget_goal\u001b[39m\u001b[38;5;124m\"\u001b[39m])), axis\u001b[38;5;241m=\u001b[39m\u001b[38;5;241m1\u001b[39m)\n",
      "File \u001b[0;32m~/Storage/anaconda3/envs/ansr/lib/python3.10/site-packages/pandas/core/series.py:4924\u001b[0m, in \u001b[0;36mSeries.apply\u001b[0;34m(self, func, convert_dtype, args, by_row, **kwargs)\u001b[0m\n\u001b[1;32m   4789\u001b[0m \u001b[38;5;28;01mdef\u001b[39;00m \u001b[38;5;21mapply\u001b[39m(\n\u001b[1;32m   4790\u001b[0m     \u001b[38;5;28mself\u001b[39m,\n\u001b[1;32m   4791\u001b[0m     func: AggFuncType,\n\u001b[0;32m   (...)\u001b[0m\n\u001b[1;32m   4796\u001b[0m     \u001b[38;5;241m*\u001b[39m\u001b[38;5;241m*\u001b[39mkwargs,\n\u001b[1;32m   4797\u001b[0m ) \u001b[38;5;241m-\u001b[39m\u001b[38;5;241m>\u001b[39m DataFrame \u001b[38;5;241m|\u001b[39m Series:\n\u001b[1;32m   4798\u001b[0m \u001b[38;5;250m    \u001b[39m\u001b[38;5;124;03m\"\"\"\u001b[39;00m\n\u001b[1;32m   4799\u001b[0m \u001b[38;5;124;03m    Invoke function on values of Series.\u001b[39;00m\n\u001b[1;32m   4800\u001b[0m \n\u001b[0;32m   (...)\u001b[0m\n\u001b[1;32m   4915\u001b[0m \u001b[38;5;124;03m    dtype: float64\u001b[39;00m\n\u001b[1;32m   4916\u001b[0m \u001b[38;5;124;03m    \"\"\"\u001b[39;00m\n\u001b[1;32m   4917\u001b[0m     \u001b[38;5;28;01mreturn\u001b[39;00m \u001b[43mSeriesApply\u001b[49m\u001b[43m(\u001b[49m\n\u001b[1;32m   4918\u001b[0m \u001b[43m        \u001b[49m\u001b[38;5;28;43mself\u001b[39;49m\u001b[43m,\u001b[49m\n\u001b[1;32m   4919\u001b[0m \u001b[43m        \u001b[49m\u001b[43mfunc\u001b[49m\u001b[43m,\u001b[49m\n\u001b[1;32m   4920\u001b[0m \u001b[43m        \u001b[49m\u001b[43mconvert_dtype\u001b[49m\u001b[38;5;241;43m=\u001b[39;49m\u001b[43mconvert_dtype\u001b[49m\u001b[43m,\u001b[49m\n\u001b[1;32m   4921\u001b[0m \u001b[43m        \u001b[49m\u001b[43mby_row\u001b[49m\u001b[38;5;241;43m=\u001b[39;49m\u001b[43mby_row\u001b[49m\u001b[43m,\u001b[49m\n\u001b[1;32m   4922\u001b[0m \u001b[43m        \u001b[49m\u001b[43margs\u001b[49m\u001b[38;5;241;43m=\u001b[39;49m\u001b[43margs\u001b[49m\u001b[43m,\u001b[49m\n\u001b[1;32m   4923\u001b[0m \u001b[43m        \u001b[49m\u001b[43mkwargs\u001b[49m\u001b[38;5;241;43m=\u001b[39;49m\u001b[43mkwargs\u001b[49m\u001b[43m,\u001b[49m\n\u001b[0;32m-> 4924\u001b[0m \u001b[43m    \u001b[49m\u001b[43m)\u001b[49m\u001b[38;5;241;43m.\u001b[39;49m\u001b[43mapply\u001b[49m\u001b[43m(\u001b[49m\u001b[43m)\u001b[49m\n",
      "File \u001b[0;32m~/Storage/anaconda3/envs/ansr/lib/python3.10/site-packages/pandas/core/apply.py:1427\u001b[0m, in \u001b[0;36mSeriesApply.apply\u001b[0;34m(self)\u001b[0m\n\u001b[1;32m   1424\u001b[0m     \u001b[38;5;28;01mreturn\u001b[39;00m \u001b[38;5;28mself\u001b[39m\u001b[38;5;241m.\u001b[39mapply_compat()\n\u001b[1;32m   1426\u001b[0m \u001b[38;5;66;03m# self.func is Callable\u001b[39;00m\n\u001b[0;32m-> 1427\u001b[0m \u001b[38;5;28;01mreturn\u001b[39;00m \u001b[38;5;28;43mself\u001b[39;49m\u001b[38;5;241;43m.\u001b[39;49m\u001b[43mapply_standard\u001b[49m\u001b[43m(\u001b[49m\u001b[43m)\u001b[49m\n",
      "File \u001b[0;32m~/Storage/anaconda3/envs/ansr/lib/python3.10/site-packages/pandas/core/apply.py:1507\u001b[0m, in \u001b[0;36mSeriesApply.apply_standard\u001b[0;34m(self)\u001b[0m\n\u001b[1;32m   1501\u001b[0m \u001b[38;5;66;03m# row-wise access\u001b[39;00m\n\u001b[1;32m   1502\u001b[0m \u001b[38;5;66;03m# apply doesn't have a `na_action` keyword and for backward compat reasons\u001b[39;00m\n\u001b[1;32m   1503\u001b[0m \u001b[38;5;66;03m# we need to give `na_action=\"ignore\"` for categorical data.\u001b[39;00m\n\u001b[1;32m   1504\u001b[0m \u001b[38;5;66;03m# TODO: remove the `na_action=\"ignore\"` when that default has been changed in\u001b[39;00m\n\u001b[1;32m   1505\u001b[0m \u001b[38;5;66;03m#  Categorical (GH51645).\u001b[39;00m\n\u001b[1;32m   1506\u001b[0m action \u001b[38;5;241m=\u001b[39m \u001b[38;5;124m\"\u001b[39m\u001b[38;5;124mignore\u001b[39m\u001b[38;5;124m\"\u001b[39m \u001b[38;5;28;01mif\u001b[39;00m \u001b[38;5;28misinstance\u001b[39m(obj\u001b[38;5;241m.\u001b[39mdtype, CategoricalDtype) \u001b[38;5;28;01melse\u001b[39;00m \u001b[38;5;28;01mNone\u001b[39;00m\n\u001b[0;32m-> 1507\u001b[0m mapped \u001b[38;5;241m=\u001b[39m \u001b[43mobj\u001b[49m\u001b[38;5;241;43m.\u001b[39;49m\u001b[43m_map_values\u001b[49m\u001b[43m(\u001b[49m\n\u001b[1;32m   1508\u001b[0m \u001b[43m    \u001b[49m\u001b[43mmapper\u001b[49m\u001b[38;5;241;43m=\u001b[39;49m\u001b[43mcurried\u001b[49m\u001b[43m,\u001b[49m\u001b[43m \u001b[49m\u001b[43mna_action\u001b[49m\u001b[38;5;241;43m=\u001b[39;49m\u001b[43maction\u001b[49m\u001b[43m,\u001b[49m\u001b[43m \u001b[49m\u001b[43mconvert\u001b[49m\u001b[38;5;241;43m=\u001b[39;49m\u001b[38;5;28;43mself\u001b[39;49m\u001b[38;5;241;43m.\u001b[39;49m\u001b[43mconvert_dtype\u001b[49m\n\u001b[1;32m   1509\u001b[0m \u001b[43m\u001b[49m\u001b[43m)\u001b[49m\n\u001b[1;32m   1511\u001b[0m \u001b[38;5;28;01mif\u001b[39;00m \u001b[38;5;28mlen\u001b[39m(mapped) \u001b[38;5;129;01mand\u001b[39;00m \u001b[38;5;28misinstance\u001b[39m(mapped[\u001b[38;5;241m0\u001b[39m], ABCSeries):\n\u001b[1;32m   1512\u001b[0m     \u001b[38;5;66;03m# GH#43986 Need to do list(mapped) in order to get treated as nested\u001b[39;00m\n\u001b[1;32m   1513\u001b[0m     \u001b[38;5;66;03m#  See also GH#25959 regarding EA support\u001b[39;00m\n\u001b[1;32m   1514\u001b[0m     \u001b[38;5;28;01mreturn\u001b[39;00m obj\u001b[38;5;241m.\u001b[39m_constructor_expanddim(\u001b[38;5;28mlist\u001b[39m(mapped), index\u001b[38;5;241m=\u001b[39mobj\u001b[38;5;241m.\u001b[39mindex)\n",
      "File \u001b[0;32m~/Storage/anaconda3/envs/ansr/lib/python3.10/site-packages/pandas/core/base.py:921\u001b[0m, in \u001b[0;36mIndexOpsMixin._map_values\u001b[0;34m(self, mapper, na_action, convert)\u001b[0m\n\u001b[1;32m    918\u001b[0m \u001b[38;5;28;01mif\u001b[39;00m \u001b[38;5;28misinstance\u001b[39m(arr, ExtensionArray):\n\u001b[1;32m    919\u001b[0m     \u001b[38;5;28;01mreturn\u001b[39;00m arr\u001b[38;5;241m.\u001b[39mmap(mapper, na_action\u001b[38;5;241m=\u001b[39mna_action)\n\u001b[0;32m--> 921\u001b[0m \u001b[38;5;28;01mreturn\u001b[39;00m \u001b[43malgorithms\u001b[49m\u001b[38;5;241;43m.\u001b[39;49m\u001b[43mmap_array\u001b[49m\u001b[43m(\u001b[49m\u001b[43marr\u001b[49m\u001b[43m,\u001b[49m\u001b[43m \u001b[49m\u001b[43mmapper\u001b[49m\u001b[43m,\u001b[49m\u001b[43m \u001b[49m\u001b[43mna_action\u001b[49m\u001b[38;5;241;43m=\u001b[39;49m\u001b[43mna_action\u001b[49m\u001b[43m,\u001b[49m\u001b[43m \u001b[49m\u001b[43mconvert\u001b[49m\u001b[38;5;241;43m=\u001b[39;49m\u001b[43mconvert\u001b[49m\u001b[43m)\u001b[49m\n",
      "File \u001b[0;32m~/Storage/anaconda3/envs/ansr/lib/python3.10/site-packages/pandas/core/algorithms.py:1743\u001b[0m, in \u001b[0;36mmap_array\u001b[0;34m(arr, mapper, na_action, convert)\u001b[0m\n\u001b[1;32m   1741\u001b[0m values \u001b[38;5;241m=\u001b[39m arr\u001b[38;5;241m.\u001b[39mastype(\u001b[38;5;28mobject\u001b[39m, copy\u001b[38;5;241m=\u001b[39m\u001b[38;5;28;01mFalse\u001b[39;00m)\n\u001b[1;32m   1742\u001b[0m \u001b[38;5;28;01mif\u001b[39;00m na_action \u001b[38;5;129;01mis\u001b[39;00m \u001b[38;5;28;01mNone\u001b[39;00m:\n\u001b[0;32m-> 1743\u001b[0m     \u001b[38;5;28;01mreturn\u001b[39;00m \u001b[43mlib\u001b[49m\u001b[38;5;241;43m.\u001b[39;49m\u001b[43mmap_infer\u001b[49m\u001b[43m(\u001b[49m\u001b[43mvalues\u001b[49m\u001b[43m,\u001b[49m\u001b[43m \u001b[49m\u001b[43mmapper\u001b[49m\u001b[43m,\u001b[49m\u001b[43m \u001b[49m\u001b[43mconvert\u001b[49m\u001b[38;5;241;43m=\u001b[39;49m\u001b[43mconvert\u001b[49m\u001b[43m)\u001b[49m\n\u001b[1;32m   1744\u001b[0m \u001b[38;5;28;01melse\u001b[39;00m:\n\u001b[1;32m   1745\u001b[0m     \u001b[38;5;28;01mreturn\u001b[39;00m lib\u001b[38;5;241m.\u001b[39mmap_infer_mask(\n\u001b[1;32m   1746\u001b[0m         values, mapper, mask\u001b[38;5;241m=\u001b[39misna(values)\u001b[38;5;241m.\u001b[39mview(np\u001b[38;5;241m.\u001b[39muint8), convert\u001b[38;5;241m=\u001b[39mconvert\n\u001b[1;32m   1747\u001b[0m     )\n",
      "File \u001b[0;32mlib.pyx:2972\u001b[0m, in \u001b[0;36mpandas._libs.lib.map_infer\u001b[0;34m()\u001b[0m\n",
      "\u001b[0;31mTypeError\u001b[0m: eval() arg 1 must be a string, bytes or code object"
     ]
    }
   ],
   "source": [
    "#Metrics\n",
    "\n",
    "data_pred[\"distance2goal\"] = data_pred.apply(lambda x: np.linalg.norm(np.array(x[\"pred_target_pos\"]) - np.array(x[\"target_goal\"])) \\\n",
    "                                             - np.linalg.norm(np.array(x[\"target_pos\"]) - np.array(x[\"target_goal\"])), axis=1)"
   ]
  },
  {
   "cell_type": "code",
   "execution_count": 36,
   "metadata": {},
   "outputs": [
    {
     "data": {
      "text/plain": [
       "distance2goal    12.249336\n",
       "dtype: float64"
      ]
     },
     "execution_count": 36,
     "metadata": {},
     "output_type": "execute_result"
    }
   ],
   "source": [
    "data_pred.loc[data_pred[\"PARTITION\"]==\"VALID\", [\"distance2goal\"]].mean()"
   ]
  }
 ],
 "metadata": {
  "kernelspec": {
   "display_name": "ansr",
   "language": "python",
   "name": "python3"
  },
  "language_info": {
   "codemirror_mode": {
    "name": "ipython",
    "version": 3
   },
   "file_extension": ".py",
   "mimetype": "text/x-python",
   "name": "python",
   "nbconvert_exporter": "python",
   "pygments_lexer": "ipython3",
   "version": "3.10.12"
  }
 },
 "nbformat": 4,
 "nbformat_minor": 2
}
